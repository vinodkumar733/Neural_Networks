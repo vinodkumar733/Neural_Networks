{
 "cells": [
  {
   "cell_type": "code",
   "execution_count": 1,
   "id": "13b94d85",
   "metadata": {},
   "outputs": [],
   "source": [
    "# Importing the necessary packages\n",
    "import pandas as pd\n",
    "import numpy as np\n",
    "import keras\n",
    "import tensorflow\n",
    "from sklearn.preprocessing import StandardScaler\n",
    "import seaborn as sns"
   ]
  },
  {
   "cell_type": "code",
   "execution_count": 2,
   "id": "2114add8",
   "metadata": {},
   "outputs": [],
   "source": [
    "gt=pd.read_csv(\"gas_turbines.csv\")"
   ]
  },
  {
   "cell_type": "code",
   "execution_count": 3,
   "id": "6c0fee41",
   "metadata": {},
   "outputs": [
    {
     "data": {
      "text/html": [
       "<div>\n",
       "<style scoped>\n",
       "    .dataframe tbody tr th:only-of-type {\n",
       "        vertical-align: middle;\n",
       "    }\n",
       "\n",
       "    .dataframe tbody tr th {\n",
       "        vertical-align: top;\n",
       "    }\n",
       "\n",
       "    .dataframe thead th {\n",
       "        text-align: right;\n",
       "    }\n",
       "</style>\n",
       "<table border=\"1\" class=\"dataframe\">\n",
       "  <thead>\n",
       "    <tr style=\"text-align: right;\">\n",
       "      <th></th>\n",
       "      <th>AT</th>\n",
       "      <th>AP</th>\n",
       "      <th>AH</th>\n",
       "      <th>AFDP</th>\n",
       "      <th>GTEP</th>\n",
       "      <th>TIT</th>\n",
       "      <th>TAT</th>\n",
       "      <th>TEY</th>\n",
       "      <th>CDP</th>\n",
       "      <th>CO</th>\n",
       "      <th>NOX</th>\n",
       "    </tr>\n",
       "  </thead>\n",
       "  <tbody>\n",
       "    <tr>\n",
       "      <th>0</th>\n",
       "      <td>6.8594</td>\n",
       "      <td>1007.9</td>\n",
       "      <td>96.799</td>\n",
       "      <td>3.5000</td>\n",
       "      <td>19.663</td>\n",
       "      <td>1059.2</td>\n",
       "      <td>550.00</td>\n",
       "      <td>114.70</td>\n",
       "      <td>10.605</td>\n",
       "      <td>3.1547</td>\n",
       "      <td>82.722</td>\n",
       "    </tr>\n",
       "    <tr>\n",
       "      <th>1</th>\n",
       "      <td>6.7850</td>\n",
       "      <td>1008.4</td>\n",
       "      <td>97.118</td>\n",
       "      <td>3.4998</td>\n",
       "      <td>19.728</td>\n",
       "      <td>1059.3</td>\n",
       "      <td>550.00</td>\n",
       "      <td>114.72</td>\n",
       "      <td>10.598</td>\n",
       "      <td>3.2363</td>\n",
       "      <td>82.776</td>\n",
       "    </tr>\n",
       "    <tr>\n",
       "      <th>2</th>\n",
       "      <td>6.8977</td>\n",
       "      <td>1008.8</td>\n",
       "      <td>95.939</td>\n",
       "      <td>3.4824</td>\n",
       "      <td>19.779</td>\n",
       "      <td>1059.4</td>\n",
       "      <td>549.87</td>\n",
       "      <td>114.71</td>\n",
       "      <td>10.601</td>\n",
       "      <td>3.2012</td>\n",
       "      <td>82.468</td>\n",
       "    </tr>\n",
       "    <tr>\n",
       "      <th>3</th>\n",
       "      <td>7.0569</td>\n",
       "      <td>1009.2</td>\n",
       "      <td>95.249</td>\n",
       "      <td>3.4805</td>\n",
       "      <td>19.792</td>\n",
       "      <td>1059.6</td>\n",
       "      <td>549.99</td>\n",
       "      <td>114.72</td>\n",
       "      <td>10.606</td>\n",
       "      <td>3.1923</td>\n",
       "      <td>82.670</td>\n",
       "    </tr>\n",
       "    <tr>\n",
       "      <th>4</th>\n",
       "      <td>7.3978</td>\n",
       "      <td>1009.7</td>\n",
       "      <td>95.150</td>\n",
       "      <td>3.4976</td>\n",
       "      <td>19.765</td>\n",
       "      <td>1059.7</td>\n",
       "      <td>549.98</td>\n",
       "      <td>114.72</td>\n",
       "      <td>10.612</td>\n",
       "      <td>3.2484</td>\n",
       "      <td>82.311</td>\n",
       "    </tr>\n",
       "    <tr>\n",
       "      <th>...</th>\n",
       "      <td>...</td>\n",
       "      <td>...</td>\n",
       "      <td>...</td>\n",
       "      <td>...</td>\n",
       "      <td>...</td>\n",
       "      <td>...</td>\n",
       "      <td>...</td>\n",
       "      <td>...</td>\n",
       "      <td>...</td>\n",
       "      <td>...</td>\n",
       "      <td>...</td>\n",
       "    </tr>\n",
       "    <tr>\n",
       "      <th>15034</th>\n",
       "      <td>9.0301</td>\n",
       "      <td>1005.6</td>\n",
       "      <td>98.460</td>\n",
       "      <td>3.5421</td>\n",
       "      <td>19.164</td>\n",
       "      <td>1049.7</td>\n",
       "      <td>546.21</td>\n",
       "      <td>111.61</td>\n",
       "      <td>10.400</td>\n",
       "      <td>4.5186</td>\n",
       "      <td>79.559</td>\n",
       "    </tr>\n",
       "    <tr>\n",
       "      <th>15035</th>\n",
       "      <td>7.8879</td>\n",
       "      <td>1005.9</td>\n",
       "      <td>99.093</td>\n",
       "      <td>3.5059</td>\n",
       "      <td>19.414</td>\n",
       "      <td>1046.3</td>\n",
       "      <td>543.22</td>\n",
       "      <td>111.78</td>\n",
       "      <td>10.433</td>\n",
       "      <td>4.8470</td>\n",
       "      <td>79.917</td>\n",
       "    </tr>\n",
       "    <tr>\n",
       "      <th>15036</th>\n",
       "      <td>7.2647</td>\n",
       "      <td>1006.3</td>\n",
       "      <td>99.496</td>\n",
       "      <td>3.4770</td>\n",
       "      <td>19.530</td>\n",
       "      <td>1037.7</td>\n",
       "      <td>537.32</td>\n",
       "      <td>110.19</td>\n",
       "      <td>10.483</td>\n",
       "      <td>7.9632</td>\n",
       "      <td>90.912</td>\n",
       "    </tr>\n",
       "    <tr>\n",
       "      <th>15037</th>\n",
       "      <td>7.0060</td>\n",
       "      <td>1006.8</td>\n",
       "      <td>99.008</td>\n",
       "      <td>3.4486</td>\n",
       "      <td>19.377</td>\n",
       "      <td>1043.2</td>\n",
       "      <td>541.24</td>\n",
       "      <td>110.74</td>\n",
       "      <td>10.533</td>\n",
       "      <td>6.2494</td>\n",
       "      <td>93.227</td>\n",
       "    </tr>\n",
       "    <tr>\n",
       "      <th>15038</th>\n",
       "      <td>6.9279</td>\n",
       "      <td>1007.2</td>\n",
       "      <td>97.533</td>\n",
       "      <td>3.4275</td>\n",
       "      <td>19.306</td>\n",
       "      <td>1049.9</td>\n",
       "      <td>545.85</td>\n",
       "      <td>111.58</td>\n",
       "      <td>10.583</td>\n",
       "      <td>4.9816</td>\n",
       "      <td>92.498</td>\n",
       "    </tr>\n",
       "  </tbody>\n",
       "</table>\n",
       "<p>15039 rows × 11 columns</p>\n",
       "</div>"
      ],
      "text/plain": [
       "           AT      AP      AH    AFDP    GTEP     TIT     TAT     TEY     CDP  \\\n",
       "0      6.8594  1007.9  96.799  3.5000  19.663  1059.2  550.00  114.70  10.605   \n",
       "1      6.7850  1008.4  97.118  3.4998  19.728  1059.3  550.00  114.72  10.598   \n",
       "2      6.8977  1008.8  95.939  3.4824  19.779  1059.4  549.87  114.71  10.601   \n",
       "3      7.0569  1009.2  95.249  3.4805  19.792  1059.6  549.99  114.72  10.606   \n",
       "4      7.3978  1009.7  95.150  3.4976  19.765  1059.7  549.98  114.72  10.612   \n",
       "...       ...     ...     ...     ...     ...     ...     ...     ...     ...   \n",
       "15034  9.0301  1005.6  98.460  3.5421  19.164  1049.7  546.21  111.61  10.400   \n",
       "15035  7.8879  1005.9  99.093  3.5059  19.414  1046.3  543.22  111.78  10.433   \n",
       "15036  7.2647  1006.3  99.496  3.4770  19.530  1037.7  537.32  110.19  10.483   \n",
       "15037  7.0060  1006.8  99.008  3.4486  19.377  1043.2  541.24  110.74  10.533   \n",
       "15038  6.9279  1007.2  97.533  3.4275  19.306  1049.9  545.85  111.58  10.583   \n",
       "\n",
       "           CO     NOX  \n",
       "0      3.1547  82.722  \n",
       "1      3.2363  82.776  \n",
       "2      3.2012  82.468  \n",
       "3      3.1923  82.670  \n",
       "4      3.2484  82.311  \n",
       "...       ...     ...  \n",
       "15034  4.5186  79.559  \n",
       "15035  4.8470  79.917  \n",
       "15036  7.9632  90.912  \n",
       "15037  6.2494  93.227  \n",
       "15038  4.9816  92.498  \n",
       "\n",
       "[15039 rows x 11 columns]"
      ]
     },
     "execution_count": 3,
     "metadata": {},
     "output_type": "execute_result"
    }
   ],
   "source": [
    "gt"
   ]
  },
  {
   "cell_type": "code",
   "execution_count": 4,
   "id": "e010096e",
   "metadata": {},
   "outputs": [
    {
     "name": "stdout",
     "output_type": "stream",
     "text": [
      "<class 'pandas.core.frame.DataFrame'>\n",
      "RangeIndex: 15039 entries, 0 to 15038\n",
      "Data columns (total 11 columns):\n",
      " #   Column  Non-Null Count  Dtype  \n",
      "---  ------  --------------  -----  \n",
      " 0   AT      15039 non-null  float64\n",
      " 1   AP      15039 non-null  float64\n",
      " 2   AH      15039 non-null  float64\n",
      " 3   AFDP    15039 non-null  float64\n",
      " 4   GTEP    15039 non-null  float64\n",
      " 5   TIT     15039 non-null  float64\n",
      " 6   TAT     15039 non-null  float64\n",
      " 7   TEY     15039 non-null  float64\n",
      " 8   CDP     15039 non-null  float64\n",
      " 9   CO      15039 non-null  float64\n",
      " 10  NOX     15039 non-null  float64\n",
      "dtypes: float64(11)\n",
      "memory usage: 1.3 MB\n"
     ]
    }
   ],
   "source": [
    "gt.info()"
   ]
  },
  {
   "cell_type": "code",
   "execution_count": 5,
   "id": "eddbf5c1",
   "metadata": {},
   "outputs": [
    {
     "data": {
      "text/html": [
       "<div>\n",
       "<style scoped>\n",
       "    .dataframe tbody tr th:only-of-type {\n",
       "        vertical-align: middle;\n",
       "    }\n",
       "\n",
       "    .dataframe tbody tr th {\n",
       "        vertical-align: top;\n",
       "    }\n",
       "\n",
       "    .dataframe thead th {\n",
       "        text-align: right;\n",
       "    }\n",
       "</style>\n",
       "<table border=\"1\" class=\"dataframe\">\n",
       "  <thead>\n",
       "    <tr style=\"text-align: right;\">\n",
       "      <th></th>\n",
       "      <th>AT</th>\n",
       "      <th>AP</th>\n",
       "      <th>AH</th>\n",
       "      <th>AFDP</th>\n",
       "      <th>GTEP</th>\n",
       "      <th>TIT</th>\n",
       "      <th>TAT</th>\n",
       "      <th>TEY</th>\n",
       "      <th>CDP</th>\n",
       "      <th>CO</th>\n",
       "      <th>NOX</th>\n",
       "    </tr>\n",
       "  </thead>\n",
       "  <tbody>\n",
       "    <tr>\n",
       "      <th>count</th>\n",
       "      <td>15039.000000</td>\n",
       "      <td>15039.00000</td>\n",
       "      <td>15039.000000</td>\n",
       "      <td>15039.000000</td>\n",
       "      <td>15039.000000</td>\n",
       "      <td>15039.000000</td>\n",
       "      <td>15039.000000</td>\n",
       "      <td>15039.000000</td>\n",
       "      <td>15039.000000</td>\n",
       "      <td>15039.000000</td>\n",
       "      <td>15039.000000</td>\n",
       "    </tr>\n",
       "    <tr>\n",
       "      <th>mean</th>\n",
       "      <td>17.764381</td>\n",
       "      <td>1013.19924</td>\n",
       "      <td>79.124174</td>\n",
       "      <td>4.200294</td>\n",
       "      <td>25.419061</td>\n",
       "      <td>1083.798770</td>\n",
       "      <td>545.396183</td>\n",
       "      <td>134.188464</td>\n",
       "      <td>12.102353</td>\n",
       "      <td>1.972499</td>\n",
       "      <td>68.190934</td>\n",
       "    </tr>\n",
       "    <tr>\n",
       "      <th>std</th>\n",
       "      <td>7.574323</td>\n",
       "      <td>6.41076</td>\n",
       "      <td>13.793439</td>\n",
       "      <td>0.760197</td>\n",
       "      <td>4.173916</td>\n",
       "      <td>16.527806</td>\n",
       "      <td>7.866803</td>\n",
       "      <td>15.829717</td>\n",
       "      <td>1.103196</td>\n",
       "      <td>2.222206</td>\n",
       "      <td>10.470586</td>\n",
       "    </tr>\n",
       "    <tr>\n",
       "      <th>min</th>\n",
       "      <td>0.522300</td>\n",
       "      <td>985.85000</td>\n",
       "      <td>30.344000</td>\n",
       "      <td>2.087400</td>\n",
       "      <td>17.878000</td>\n",
       "      <td>1000.800000</td>\n",
       "      <td>512.450000</td>\n",
       "      <td>100.170000</td>\n",
       "      <td>9.904400</td>\n",
       "      <td>0.000388</td>\n",
       "      <td>27.765000</td>\n",
       "    </tr>\n",
       "    <tr>\n",
       "      <th>25%</th>\n",
       "      <td>11.408000</td>\n",
       "      <td>1008.90000</td>\n",
       "      <td>69.750000</td>\n",
       "      <td>3.723900</td>\n",
       "      <td>23.294000</td>\n",
       "      <td>1079.600000</td>\n",
       "      <td>542.170000</td>\n",
       "      <td>127.985000</td>\n",
       "      <td>11.622000</td>\n",
       "      <td>0.858055</td>\n",
       "      <td>61.303500</td>\n",
       "    </tr>\n",
       "    <tr>\n",
       "      <th>50%</th>\n",
       "      <td>18.186000</td>\n",
       "      <td>1012.80000</td>\n",
       "      <td>82.266000</td>\n",
       "      <td>4.186200</td>\n",
       "      <td>25.082000</td>\n",
       "      <td>1088.700000</td>\n",
       "      <td>549.890000</td>\n",
       "      <td>133.780000</td>\n",
       "      <td>12.025000</td>\n",
       "      <td>1.390200</td>\n",
       "      <td>66.601000</td>\n",
       "    </tr>\n",
       "    <tr>\n",
       "      <th>75%</th>\n",
       "      <td>23.862500</td>\n",
       "      <td>1016.90000</td>\n",
       "      <td>90.043500</td>\n",
       "      <td>4.550900</td>\n",
       "      <td>27.184000</td>\n",
       "      <td>1096.000000</td>\n",
       "      <td>550.060000</td>\n",
       "      <td>140.895000</td>\n",
       "      <td>12.578000</td>\n",
       "      <td>2.160400</td>\n",
       "      <td>73.935500</td>\n",
       "    </tr>\n",
       "    <tr>\n",
       "      <th>max</th>\n",
       "      <td>34.929000</td>\n",
       "      <td>1034.20000</td>\n",
       "      <td>100.200000</td>\n",
       "      <td>7.610600</td>\n",
       "      <td>37.402000</td>\n",
       "      <td>1100.800000</td>\n",
       "      <td>550.610000</td>\n",
       "      <td>174.610000</td>\n",
       "      <td>15.081000</td>\n",
       "      <td>44.103000</td>\n",
       "      <td>119.890000</td>\n",
       "    </tr>\n",
       "  </tbody>\n",
       "</table>\n",
       "</div>"
      ],
      "text/plain": [
       "                 AT           AP            AH          AFDP          GTEP  \\\n",
       "count  15039.000000  15039.00000  15039.000000  15039.000000  15039.000000   \n",
       "mean      17.764381   1013.19924     79.124174      4.200294     25.419061   \n",
       "std        7.574323      6.41076     13.793439      0.760197      4.173916   \n",
       "min        0.522300    985.85000     30.344000      2.087400     17.878000   \n",
       "25%       11.408000   1008.90000     69.750000      3.723900     23.294000   \n",
       "50%       18.186000   1012.80000     82.266000      4.186200     25.082000   \n",
       "75%       23.862500   1016.90000     90.043500      4.550900     27.184000   \n",
       "max       34.929000   1034.20000    100.200000      7.610600     37.402000   \n",
       "\n",
       "                TIT           TAT           TEY           CDP            CO  \\\n",
       "count  15039.000000  15039.000000  15039.000000  15039.000000  15039.000000   \n",
       "mean    1083.798770    545.396183    134.188464     12.102353      1.972499   \n",
       "std       16.527806      7.866803     15.829717      1.103196      2.222206   \n",
       "min     1000.800000    512.450000    100.170000      9.904400      0.000388   \n",
       "25%     1079.600000    542.170000    127.985000     11.622000      0.858055   \n",
       "50%     1088.700000    549.890000    133.780000     12.025000      1.390200   \n",
       "75%     1096.000000    550.060000    140.895000     12.578000      2.160400   \n",
       "max     1100.800000    550.610000    174.610000     15.081000     44.103000   \n",
       "\n",
       "                NOX  \n",
       "count  15039.000000  \n",
       "mean      68.190934  \n",
       "std       10.470586  \n",
       "min       27.765000  \n",
       "25%       61.303500  \n",
       "50%       66.601000  \n",
       "75%       73.935500  \n",
       "max      119.890000  "
      ]
     },
     "execution_count": 5,
     "metadata": {},
     "output_type": "execute_result"
    }
   ],
   "source": [
    "gt.describe()"
   ]
  },
  {
   "cell_type": "code",
   "execution_count": 6,
   "id": "fb51a330",
   "metadata": {},
   "outputs": [
    {
     "data": {
      "text/plain": [
       "<matplotlib.collections.PathCollection at 0x1b49d8cef20>"
      ]
     },
     "execution_count": 6,
     "metadata": {},
     "output_type": "execute_result"
    },
    {
     "data": {
      "image/png": "[encoded data removed]",
      "text/plain": [
       "<Figure size 640x480 with 1 Axes>"
      ]
     },
     "metadata": {},
     "output_type": "display_data"
    }
   ],
   "source": [
    "import matplotlib.pyplot as plt\n",
    "plt.scatter(x=\"CDP\",y=\"TEY\",data=gt)#which is linerly co-related"
   ]
  },
  {
   "cell_type": "code",
   "execution_count": 7,
   "id": "5e675a8e",
   "metadata": {},
   "outputs": [
    {
     "data": {
      "text/plain": [
       "<Axes: >"
      ]
     },
     "execution_count": 7,
     "metadata": {},
     "output_type": "execute_result"
    },
    {
     "data": {
      "image/png": "[encoded data removed]",
      "text/plain": [
       "<Figure size 640x480 with 1 Axes>"
      ]
     },
     "metadata": {},
     "output_type": "display_data"
    }
   ],
   "source": [
    "sns.barplot(data=gt)"
   ]
  },
  {
   "cell_type": "code",
   "execution_count": 8,
   "id": "d19763d6",
   "metadata": {},
   "outputs": [
    {
     "data": {
      "text/plain": [
       "(array([ 247., 2671.,  474.,  528., 7145.,  462.,  989., 1215., 1160.,\n",
       "         148.]),\n",
       " array([100.17 , 107.614, 115.058, 122.502, 129.946, 137.39 , 144.834,\n",
       "        152.278, 159.722, 167.166, 174.61 ]),\n",
       " <BarContainer object of 10 artists>)"
      ]
     },
     "execution_count": 8,
     "metadata": {},
     "output_type": "execute_result"
    },
    {
     "data": {
      "image/png": "[encoded data removed]",
      "text/plain": [
       "<Figure size 640x480 with 1 Axes>"
      ]
     },
     "metadata": {},
     "output_type": "display_data"
    }
   ],
   "source": [
    "plt.hist(gt['TEY'])"
   ]
  },
  {
   "cell_type": "code",
   "execution_count": 9,
   "id": "ba0955e2",
   "metadata": {},
   "outputs": [],
   "source": [
    "#here according to question the target variable is TEY i.e(Turbine Energy Yeild)"
   ]
  },
  {
   "cell_type": "code",
   "execution_count": 10,
   "id": "8f5e6e9d",
   "metadata": {},
   "outputs": [],
   "source": [
    "from sklearn.preprocessing import StandardScaler"
   ]
  },
  {
   "cell_type": "code",
   "execution_count": 11,
   "id": "f1dc384c",
   "metadata": {},
   "outputs": [],
   "source": [
    "scaler = StandardScaler()\n",
    "standardized_gt=scaler.fit_transform(gt)\n",
    "df=pd.DataFrame(standardized_gt, columns=gt.columns)"
   ]
  },
  {
   "cell_type": "code",
   "execution_count": 12,
   "id": "8739bb87",
   "metadata": {},
   "outputs": [
    {
     "data": {
      "text/html": [
       "<div>\n",
       "<style scoped>\n",
       "    .dataframe tbody tr th:only-of-type {\n",
       "        vertical-align: middle;\n",
       "    }\n",
       "\n",
       "    .dataframe tbody tr th {\n",
       "        vertical-align: top;\n",
       "    }\n",
       "\n",
       "    .dataframe thead th {\n",
       "        text-align: right;\n",
       "    }\n",
       "</style>\n",
       "<table border=\"1\" class=\"dataframe\">\n",
       "  <thead>\n",
       "    <tr style=\"text-align: right;\">\n",
       "      <th></th>\n",
       "      <th>AT</th>\n",
       "      <th>AP</th>\n",
       "      <th>AH</th>\n",
       "      <th>AFDP</th>\n",
       "      <th>GTEP</th>\n",
       "      <th>TIT</th>\n",
       "      <th>TAT</th>\n",
       "      <th>TEY</th>\n",
       "      <th>CDP</th>\n",
       "      <th>CO</th>\n",
       "      <th>NOX</th>\n",
       "    </tr>\n",
       "  </thead>\n",
       "  <tbody>\n",
       "    <tr>\n",
       "      <th>0</th>\n",
       "      <td>-1.439778</td>\n",
       "      <td>-0.826644</td>\n",
       "      <td>1.281436</td>\n",
       "      <td>-0.921232</td>\n",
       "      <td>-1.379101</td>\n",
       "      <td>-1.488376</td>\n",
       "      <td>0.585240</td>\n",
       "      <td>-1.231172</td>\n",
       "      <td>-1.357331</td>\n",
       "      <td>0.532012</td>\n",
       "      <td>1.387845</td>\n",
       "    </tr>\n",
       "    <tr>\n",
       "      <th>1</th>\n",
       "      <td>-1.449601</td>\n",
       "      <td>-0.748647</td>\n",
       "      <td>1.304564</td>\n",
       "      <td>-0.921495</td>\n",
       "      <td>-1.363528</td>\n",
       "      <td>-1.482325</td>\n",
       "      <td>0.585240</td>\n",
       "      <td>-1.229909</td>\n",
       "      <td>-1.363676</td>\n",
       "      <td>0.568733</td>\n",
       "      <td>1.393002</td>\n",
       "    </tr>\n",
       "    <tr>\n",
       "      <th>2</th>\n",
       "      <td>-1.434721</td>\n",
       "      <td>-0.686250</td>\n",
       "      <td>1.219086</td>\n",
       "      <td>-0.944385</td>\n",
       "      <td>-1.351309</td>\n",
       "      <td>-1.476275</td>\n",
       "      <td>0.568715</td>\n",
       "      <td>-1.230541</td>\n",
       "      <td>-1.360957</td>\n",
       "      <td>0.552938</td>\n",
       "      <td>1.363586</td>\n",
       "    </tr>\n",
       "    <tr>\n",
       "      <th>3</th>\n",
       "      <td>-1.413702</td>\n",
       "      <td>-0.623853</td>\n",
       "      <td>1.169060</td>\n",
       "      <td>-0.946884</td>\n",
       "      <td>-1.348194</td>\n",
       "      <td>-1.464173</td>\n",
       "      <td>0.583969</td>\n",
       "      <td>-1.229909</td>\n",
       "      <td>-1.356424</td>\n",
       "      <td>0.548933</td>\n",
       "      <td>1.382878</td>\n",
       "    </tr>\n",
       "    <tr>\n",
       "      <th>4</th>\n",
       "      <td>-1.368693</td>\n",
       "      <td>-0.545857</td>\n",
       "      <td>1.161883</td>\n",
       "      <td>-0.924389</td>\n",
       "      <td>-1.354663</td>\n",
       "      <td>-1.458123</td>\n",
       "      <td>0.582698</td>\n",
       "      <td>-1.229909</td>\n",
       "      <td>-1.350985</td>\n",
       "      <td>0.574179</td>\n",
       "      <td>1.348591</td>\n",
       "    </tr>\n",
       "    <tr>\n",
       "      <th>...</th>\n",
       "      <td>...</td>\n",
       "      <td>...</td>\n",
       "      <td>...</td>\n",
       "      <td>...</td>\n",
       "      <td>...</td>\n",
       "      <td>...</td>\n",
       "      <td>...</td>\n",
       "      <td>...</td>\n",
       "      <td>...</td>\n",
       "      <td>...</td>\n",
       "      <td>...</td>\n",
       "    </tr>\n",
       "    <tr>\n",
       "      <th>15034</th>\n",
       "      <td>-1.153182</td>\n",
       "      <td>-1.185428</td>\n",
       "      <td>1.401860</td>\n",
       "      <td>-0.865850</td>\n",
       "      <td>-1.498657</td>\n",
       "      <td>-2.063184</td>\n",
       "      <td>0.103453</td>\n",
       "      <td>-1.426381</td>\n",
       "      <td>-1.543161</td>\n",
       "      <td>1.145792</td>\n",
       "      <td>1.085751</td>\n",
       "    </tr>\n",
       "    <tr>\n",
       "      <th>15035</th>\n",
       "      <td>-1.303986</td>\n",
       "      <td>-1.138630</td>\n",
       "      <td>1.447753</td>\n",
       "      <td>-0.913470</td>\n",
       "      <td>-1.438759</td>\n",
       "      <td>-2.268905</td>\n",
       "      <td>-0.276638</td>\n",
       "      <td>-1.415642</td>\n",
       "      <td>-1.513247</td>\n",
       "      <td>1.293578</td>\n",
       "      <td>1.119943</td>\n",
       "    </tr>\n",
       "    <tr>\n",
       "      <th>15036</th>\n",
       "      <td>-1.386267</td>\n",
       "      <td>-1.076233</td>\n",
       "      <td>1.476971</td>\n",
       "      <td>-0.951488</td>\n",
       "      <td>-1.410967</td>\n",
       "      <td>-2.789257</td>\n",
       "      <td>-1.026650</td>\n",
       "      <td>-1.516089</td>\n",
       "      <td>-1.467922</td>\n",
       "      <td>2.695925</td>\n",
       "      <td>2.170062</td>\n",
       "    </tr>\n",
       "    <tr>\n",
       "      <th>15037</th>\n",
       "      <td>-1.420423</td>\n",
       "      <td>-0.998236</td>\n",
       "      <td>1.441590</td>\n",
       "      <td>-0.988848</td>\n",
       "      <td>-1.447624</td>\n",
       "      <td>-2.456474</td>\n",
       "      <td>-0.528337</td>\n",
       "      <td>-1.481343</td>\n",
       "      <td>-1.422598</td>\n",
       "      <td>1.924683</td>\n",
       "      <td>2.391165</td>\n",
       "    </tr>\n",
       "    <tr>\n",
       "      <th>15038</th>\n",
       "      <td>-1.430734</td>\n",
       "      <td>-0.935839</td>\n",
       "      <td>1.334652</td>\n",
       "      <td>-1.016605</td>\n",
       "      <td>-1.464635</td>\n",
       "      <td>-2.051083</td>\n",
       "      <td>0.057689</td>\n",
       "      <td>-1.428277</td>\n",
       "      <td>-1.377273</td>\n",
       "      <td>1.354150</td>\n",
       "      <td>2.321539</td>\n",
       "    </tr>\n",
       "  </tbody>\n",
       "</table>\n",
       "<p>15039 rows × 11 columns</p>\n",
       "</div>"
      ],
      "text/plain": [
       "             AT        AP        AH      AFDP      GTEP       TIT       TAT  \\\n",
       "0     -1.439778 -0.826644  1.281436 -0.921232 -1.379101 -1.488376  0.585240   \n",
       "1     -1.449601 -0.748647  1.304564 -0.921495 -1.363528 -1.482325  0.585240   \n",
       "2     -1.434721 -0.686250  1.219086 -0.944385 -1.351309 -1.476275  0.568715   \n",
       "3     -1.413702 -0.623853  1.169060 -0.946884 -1.348194 -1.464173  0.583969   \n",
       "4     -1.368693 -0.545857  1.161883 -0.924389 -1.354663 -1.458123  0.582698   \n",
       "...         ...       ...       ...       ...       ...       ...       ...   \n",
       "15034 -1.153182 -1.185428  1.401860 -0.865850 -1.498657 -2.063184  0.103453   \n",
       "15035 -1.303986 -1.138630  1.447753 -0.913470 -1.438759 -2.268905 -0.276638   \n",
       "15036 -1.386267 -1.076233  1.476971 -0.951488 -1.410967 -2.789257 -1.026650   \n",
       "15037 -1.420423 -0.998236  1.441590 -0.988848 -1.447624 -2.456474 -0.528337   \n",
       "15038 -1.430734 -0.935839  1.334652 -1.016605 -1.464635 -2.051083  0.057689   \n",
       "\n",
       "            TEY       CDP        CO       NOX  \n",
       "0     -1.231172 -1.357331  0.532012  1.387845  \n",
       "1     -1.229909 -1.363676  0.568733  1.393002  \n",
       "2     -1.230541 -1.360957  0.552938  1.363586  \n",
       "3     -1.229909 -1.356424  0.548933  1.382878  \n",
       "4     -1.229909 -1.350985  0.574179  1.348591  \n",
       "...         ...       ...       ...       ...  \n",
       "15034 -1.426381 -1.543161  1.145792  1.085751  \n",
       "15035 -1.415642 -1.513247  1.293578  1.119943  \n",
       "15036 -1.516089 -1.467922  2.695925  2.170062  \n",
       "15037 -1.481343 -1.422598  1.924683  2.391165  \n",
       "15038 -1.428277 -1.377273  1.354150  2.321539  \n",
       "\n",
       "[15039 rows x 11 columns]"
      ]
     },
     "execution_count": 12,
     "metadata": {},
     "output_type": "execute_result"
    }
   ],
   "source": [
    "df"
   ]
  },
  {
   "cell_type": "code",
   "execution_count": 13,
   "id": "a1953eb5",
   "metadata": {},
   "outputs": [
    {
     "name": "stdout",
     "output_type": "stream",
     "text": [
      "<class 'pandas.core.frame.DataFrame'>\n",
      "RangeIndex: 15039 entries, 0 to 15038\n",
      "Data columns (total 11 columns):\n",
      " #   Column  Non-Null Count  Dtype  \n",
      "---  ------  --------------  -----  \n",
      " 0   AT      15039 non-null  float64\n",
      " 1   AP      15039 non-null  float64\n",
      " 2   AH      15039 non-null  float64\n",
      " 3   AFDP    15039 non-null  float64\n",
      " 4   GTEP    15039 non-null  float64\n",
      " 5   TIT     15039 non-null  float64\n",
      " 6   TAT     15039 non-null  float64\n",
      " 7   TEY     15039 non-null  float64\n",
      " 8   CDP     15039 non-null  float64\n",
      " 9   CO      15039 non-null  float64\n",
      " 10  NOX     15039 non-null  float64\n",
      "dtypes: float64(11)\n",
      "memory usage: 1.3 MB\n"
     ]
    }
   ],
   "source": [
    "df.info()"
   ]
  },
  {
   "cell_type": "code",
   "execution_count": 14,
   "id": "6214d536",
   "metadata": {},
   "outputs": [
    {
     "data": {
      "text/html": [
       "<div>\n",
       "<style scoped>\n",
       "    .dataframe tbody tr th:only-of-type {\n",
       "        vertical-align: middle;\n",
       "    }\n",
       "\n",
       "    .dataframe tbody tr th {\n",
       "        vertical-align: top;\n",
       "    }\n",
       "\n",
       "    .dataframe thead th {\n",
       "        text-align: right;\n",
       "    }\n",
       "</style>\n",
       "<table border=\"1\" class=\"dataframe\">\n",
       "  <thead>\n",
       "    <tr style=\"text-align: right;\">\n",
       "      <th></th>\n",
       "      <th>AT</th>\n",
       "      <th>AP</th>\n",
       "      <th>AH</th>\n",
       "      <th>AFDP</th>\n",
       "      <th>GTEP</th>\n",
       "      <th>TIT</th>\n",
       "      <th>TAT</th>\n",
       "      <th>TEY</th>\n",
       "      <th>CDP</th>\n",
       "      <th>CO</th>\n",
       "      <th>NOX</th>\n",
       "    </tr>\n",
       "  </thead>\n",
       "  <tbody>\n",
       "    <tr>\n",
       "      <th>count</th>\n",
       "      <td>1.503900e+04</td>\n",
       "      <td>1.503900e+04</td>\n",
       "      <td>1.503900e+04</td>\n",
       "      <td>1.503900e+04</td>\n",
       "      <td>1.503900e+04</td>\n",
       "      <td>1.503900e+04</td>\n",
       "      <td>1.503900e+04</td>\n",
       "      <td>1.503900e+04</td>\n",
       "      <td>1.503900e+04</td>\n",
       "      <td>1.503900e+04</td>\n",
       "      <td>1.503900e+04</td>\n",
       "    </tr>\n",
       "    <tr>\n",
       "      <th>mean</th>\n",
       "      <td>4.913654e-16</td>\n",
       "      <td>-1.875504e-14</td>\n",
       "      <td>2.570219e-16</td>\n",
       "      <td>1.511894e-16</td>\n",
       "      <td>-7.559468e-17</td>\n",
       "      <td>-3.260021e-15</td>\n",
       "      <td>1.640405e-15</td>\n",
       "      <td>1.081004e-15</td>\n",
       "      <td>1.965462e-16</td>\n",
       "      <td>3.779734e-17</td>\n",
       "      <td>4.233302e-16</td>\n",
       "    </tr>\n",
       "    <tr>\n",
       "      <th>std</th>\n",
       "      <td>1.000033e+00</td>\n",
       "      <td>1.000033e+00</td>\n",
       "      <td>1.000033e+00</td>\n",
       "      <td>1.000033e+00</td>\n",
       "      <td>1.000033e+00</td>\n",
       "      <td>1.000033e+00</td>\n",
       "      <td>1.000033e+00</td>\n",
       "      <td>1.000033e+00</td>\n",
       "      <td>1.000033e+00</td>\n",
       "      <td>1.000033e+00</td>\n",
       "      <td>1.000033e+00</td>\n",
       "    </tr>\n",
       "    <tr>\n",
       "      <th>min</th>\n",
       "      <td>-2.276462e+00</td>\n",
       "      <td>-4.266288e+00</td>\n",
       "      <td>-3.536594e+00</td>\n",
       "      <td>-2.779497e+00</td>\n",
       "      <td>-1.806771e+00</td>\n",
       "      <td>-5.021933e+00</td>\n",
       "      <td>-4.188141e+00</td>\n",
       "      <td>-2.149097e+00</td>\n",
       "      <td>-1.992416e+00</td>\n",
       "      <td>-8.874862e-01</td>\n",
       "      <td>-3.861033e+00</td>\n",
       "    </tr>\n",
       "    <tr>\n",
       "      <th>25%</th>\n",
       "      <td>-8.392292e-01</td>\n",
       "      <td>-6.706510e-01</td>\n",
       "      <td>-6.796337e-01</td>\n",
       "      <td>-6.266930e-01</td>\n",
       "      <td>-5.091458e-01</td>\n",
       "      <td>-2.540512e-01</td>\n",
       "      <td>-4.101146e-01</td>\n",
       "      <td>-3.919003e-01</td>\n",
       "      <td>-4.354335e-01</td>\n",
       "      <td>-5.015202e-01</td>\n",
       "      <td>-6.578107e-01</td>\n",
       "    </tr>\n",
       "    <tr>\n",
       "      <th>50%</th>\n",
       "      <td>5.566605e-02</td>\n",
       "      <td>-6.227861e-02</td>\n",
       "      <td>2.277844e-01</td>\n",
       "      <td>-1.854065e-02</td>\n",
       "      <td>-8.075681e-02</td>\n",
       "      <td>2.965544e-01</td>\n",
       "      <td>5.712570e-01</td>\n",
       "      <td>-2.580448e-02</td>\n",
       "      <td>-7.011925e-02</td>\n",
       "      <td>-2.620452e-01</td>\n",
       "      <td>-1.518527e-01</td>\n",
       "    </tr>\n",
       "    <tr>\n",
       "      <th>75%</th>\n",
       "      <td>8.051309e-01</td>\n",
       "      <td>5.772924e-01</td>\n",
       "      <td>7.916582e-01</td>\n",
       "      <td>4.612196e-01</td>\n",
       "      <td>4.228638e-01</td>\n",
       "      <td>7.382490e-01</td>\n",
       "      <td>5.928675e-01</td>\n",
       "      <td>4.236815e-01</td>\n",
       "      <td>4.311680e-01</td>\n",
       "      <td>8.455882e-02</td>\n",
       "      <td>5.486567e-01</td>\n",
       "    </tr>\n",
       "    <tr>\n",
       "      <th>max</th>\n",
       "      <td>2.266234e+00</td>\n",
       "      <td>3.275970e+00</td>\n",
       "      <td>1.528011e+00</td>\n",
       "      <td>4.486233e+00</td>\n",
       "      <td>2.871006e+00</td>\n",
       "      <td>1.028678e+00</td>\n",
       "      <td>6.627839e-01</td>\n",
       "      <td>2.553607e+00</td>\n",
       "      <td>2.700105e+00</td>\n",
       "      <td>1.895949e+01</td>\n",
       "      <td>4.937717e+00</td>\n",
       "    </tr>\n",
       "  </tbody>\n",
       "</table>\n",
       "</div>"
      ],
      "text/plain": [
       "                 AT            AP            AH          AFDP          GTEP  \\\n",
       "count  1.503900e+04  1.503900e+04  1.503900e+04  1.503900e+04  1.503900e+04   \n",
       "mean   4.913654e-16 -1.875504e-14  2.570219e-16  1.511894e-16 -7.559468e-17   \n",
       "std    1.000033e+00  1.000033e+00  1.000033e+00  1.000033e+00  1.000033e+00   \n",
       "min   -2.276462e+00 -4.266288e+00 -3.536594e+00 -2.779497e+00 -1.806771e+00   \n",
       "25%   -8.392292e-01 -6.706510e-01 -6.796337e-01 -6.266930e-01 -5.091458e-01   \n",
       "50%    5.566605e-02 -6.227861e-02  2.277844e-01 -1.854065e-02 -8.075681e-02   \n",
       "75%    8.051309e-01  5.772924e-01  7.916582e-01  4.612196e-01  4.228638e-01   \n",
       "max    2.266234e+00  3.275970e+00  1.528011e+00  4.486233e+00  2.871006e+00   \n",
       "\n",
       "                TIT           TAT           TEY           CDP            CO  \\\n",
       "count  1.503900e+04  1.503900e+04  1.503900e+04  1.503900e+04  1.503900e+04   \n",
       "mean  -3.260021e-15  1.640405e-15  1.081004e-15  1.965462e-16  3.779734e-17   \n",
       "std    1.000033e+00  1.000033e+00  1.000033e+00  1.000033e+00  1.000033e+00   \n",
       "min   -5.021933e+00 -4.188141e+00 -2.149097e+00 -1.992416e+00 -8.874862e-01   \n",
       "25%   -2.540512e-01 -4.101146e-01 -3.919003e-01 -4.354335e-01 -5.015202e-01   \n",
       "50%    2.965544e-01  5.712570e-01 -2.580448e-02 -7.011925e-02 -2.620452e-01   \n",
       "75%    7.382490e-01  5.928675e-01  4.236815e-01  4.311680e-01  8.455882e-02   \n",
       "max    1.028678e+00  6.627839e-01  2.553607e+00  2.700105e+00  1.895949e+01   \n",
       "\n",
       "                NOX  \n",
       "count  1.503900e+04  \n",
       "mean   4.233302e-16  \n",
       "std    1.000033e+00  \n",
       "min   -3.861033e+00  \n",
       "25%   -6.578107e-01  \n",
       "50%   -1.518527e-01  \n",
       "75%    5.486567e-01  \n",
       "max    4.937717e+00  "
      ]
     },
     "execution_count": 14,
     "metadata": {},
     "output_type": "execute_result"
    }
   ],
   "source": [
    "df.describe()"
   ]
  },
  {
   "cell_type": "code",
   "execution_count": 15,
   "id": "cfce17cd",
   "metadata": {},
   "outputs": [],
   "source": [
    "X=df.drop([\"TEY\"],axis=1)\n",
    "y=df[\"TEY\"]"
   ]
  },
  {
   "cell_type": "code",
   "execution_count": 16,
   "id": "cc085ef8",
   "metadata": {},
   "outputs": [
    {
     "data": {
      "text/html": [
       "<div>\n",
       "<style scoped>\n",
       "    .dataframe tbody tr th:only-of-type {\n",
       "        vertical-align: middle;\n",
       "    }\n",
       "\n",
       "    .dataframe tbody tr th {\n",
       "        vertical-align: top;\n",
       "    }\n",
       "\n",
       "    .dataframe thead th {\n",
       "        text-align: right;\n",
       "    }\n",
       "</style>\n",
       "<table border=\"1\" class=\"dataframe\">\n",
       "  <thead>\n",
       "    <tr style=\"text-align: right;\">\n",
       "      <th></th>\n",
       "      <th>AT</th>\n",
       "      <th>AP</th>\n",
       "      <th>AH</th>\n",
       "      <th>AFDP</th>\n",
       "      <th>GTEP</th>\n",
       "      <th>TIT</th>\n",
       "      <th>TAT</th>\n",
       "      <th>CDP</th>\n",
       "      <th>CO</th>\n",
       "      <th>NOX</th>\n",
       "    </tr>\n",
       "  </thead>\n",
       "  <tbody>\n",
       "    <tr>\n",
       "      <th>0</th>\n",
       "      <td>-1.439778</td>\n",
       "      <td>-0.826644</td>\n",
       "      <td>1.281436</td>\n",
       "      <td>-0.921232</td>\n",
       "      <td>-1.379101</td>\n",
       "      <td>-1.488376</td>\n",
       "      <td>0.585240</td>\n",
       "      <td>-1.357331</td>\n",
       "      <td>0.532012</td>\n",
       "      <td>1.387845</td>\n",
       "    </tr>\n",
       "    <tr>\n",
       "      <th>1</th>\n",
       "      <td>-1.449601</td>\n",
       "      <td>-0.748647</td>\n",
       "      <td>1.304564</td>\n",
       "      <td>-0.921495</td>\n",
       "      <td>-1.363528</td>\n",
       "      <td>-1.482325</td>\n",
       "      <td>0.585240</td>\n",
       "      <td>-1.363676</td>\n",
       "      <td>0.568733</td>\n",
       "      <td>1.393002</td>\n",
       "    </tr>\n",
       "    <tr>\n",
       "      <th>2</th>\n",
       "      <td>-1.434721</td>\n",
       "      <td>-0.686250</td>\n",
       "      <td>1.219086</td>\n",
       "      <td>-0.944385</td>\n",
       "      <td>-1.351309</td>\n",
       "      <td>-1.476275</td>\n",
       "      <td>0.568715</td>\n",
       "      <td>-1.360957</td>\n",
       "      <td>0.552938</td>\n",
       "      <td>1.363586</td>\n",
       "    </tr>\n",
       "    <tr>\n",
       "      <th>3</th>\n",
       "      <td>-1.413702</td>\n",
       "      <td>-0.623853</td>\n",
       "      <td>1.169060</td>\n",
       "      <td>-0.946884</td>\n",
       "      <td>-1.348194</td>\n",
       "      <td>-1.464173</td>\n",
       "      <td>0.583969</td>\n",
       "      <td>-1.356424</td>\n",
       "      <td>0.548933</td>\n",
       "      <td>1.382878</td>\n",
       "    </tr>\n",
       "    <tr>\n",
       "      <th>4</th>\n",
       "      <td>-1.368693</td>\n",
       "      <td>-0.545857</td>\n",
       "      <td>1.161883</td>\n",
       "      <td>-0.924389</td>\n",
       "      <td>-1.354663</td>\n",
       "      <td>-1.458123</td>\n",
       "      <td>0.582698</td>\n",
       "      <td>-1.350985</td>\n",
       "      <td>0.574179</td>\n",
       "      <td>1.348591</td>\n",
       "    </tr>\n",
       "    <tr>\n",
       "      <th>...</th>\n",
       "      <td>...</td>\n",
       "      <td>...</td>\n",
       "      <td>...</td>\n",
       "      <td>...</td>\n",
       "      <td>...</td>\n",
       "      <td>...</td>\n",
       "      <td>...</td>\n",
       "      <td>...</td>\n",
       "      <td>...</td>\n",
       "      <td>...</td>\n",
       "    </tr>\n",
       "    <tr>\n",
       "      <th>15034</th>\n",
       "      <td>-1.153182</td>\n",
       "      <td>-1.185428</td>\n",
       "      <td>1.401860</td>\n",
       "      <td>-0.865850</td>\n",
       "      <td>-1.498657</td>\n",
       "      <td>-2.063184</td>\n",
       "      <td>0.103453</td>\n",
       "      <td>-1.543161</td>\n",
       "      <td>1.145792</td>\n",
       "      <td>1.085751</td>\n",
       "    </tr>\n",
       "    <tr>\n",
       "      <th>15035</th>\n",
       "      <td>-1.303986</td>\n",
       "      <td>-1.138630</td>\n",
       "      <td>1.447753</td>\n",
       "      <td>-0.913470</td>\n",
       "      <td>-1.438759</td>\n",
       "      <td>-2.268905</td>\n",
       "      <td>-0.276638</td>\n",
       "      <td>-1.513247</td>\n",
       "      <td>1.293578</td>\n",
       "      <td>1.119943</td>\n",
       "    </tr>\n",
       "    <tr>\n",
       "      <th>15036</th>\n",
       "      <td>-1.386267</td>\n",
       "      <td>-1.076233</td>\n",
       "      <td>1.476971</td>\n",
       "      <td>-0.951488</td>\n",
       "      <td>-1.410967</td>\n",
       "      <td>-2.789257</td>\n",
       "      <td>-1.026650</td>\n",
       "      <td>-1.467922</td>\n",
       "      <td>2.695925</td>\n",
       "      <td>2.170062</td>\n",
       "    </tr>\n",
       "    <tr>\n",
       "      <th>15037</th>\n",
       "      <td>-1.420423</td>\n",
       "      <td>-0.998236</td>\n",
       "      <td>1.441590</td>\n",
       "      <td>-0.988848</td>\n",
       "      <td>-1.447624</td>\n",
       "      <td>-2.456474</td>\n",
       "      <td>-0.528337</td>\n",
       "      <td>-1.422598</td>\n",
       "      <td>1.924683</td>\n",
       "      <td>2.391165</td>\n",
       "    </tr>\n",
       "    <tr>\n",
       "      <th>15038</th>\n",
       "      <td>-1.430734</td>\n",
       "      <td>-0.935839</td>\n",
       "      <td>1.334652</td>\n",
       "      <td>-1.016605</td>\n",
       "      <td>-1.464635</td>\n",
       "      <td>-2.051083</td>\n",
       "      <td>0.057689</td>\n",
       "      <td>-1.377273</td>\n",
       "      <td>1.354150</td>\n",
       "      <td>2.321539</td>\n",
       "    </tr>\n",
       "  </tbody>\n",
       "</table>\n",
       "<p>15039 rows × 10 columns</p>\n",
       "</div>"
      ],
      "text/plain": [
       "             AT        AP        AH      AFDP      GTEP       TIT       TAT  \\\n",
       "0     -1.439778 -0.826644  1.281436 -0.921232 -1.379101 -1.488376  0.585240   \n",
       "1     -1.449601 -0.748647  1.304564 -0.921495 -1.363528 -1.482325  0.585240   \n",
       "2     -1.434721 -0.686250  1.219086 -0.944385 -1.351309 -1.476275  0.568715   \n",
       "3     -1.413702 -0.623853  1.169060 -0.946884 -1.348194 -1.464173  0.583969   \n",
       "4     -1.368693 -0.545857  1.161883 -0.924389 -1.354663 -1.458123  0.582698   \n",
       "...         ...       ...       ...       ...       ...       ...       ...   \n",
       "15034 -1.153182 -1.185428  1.401860 -0.865850 -1.498657 -2.063184  0.103453   \n",
       "15035 -1.303986 -1.138630  1.447753 -0.913470 -1.438759 -2.268905 -0.276638   \n",
       "15036 -1.386267 -1.076233  1.476971 -0.951488 -1.410967 -2.789257 -1.026650   \n",
       "15037 -1.420423 -0.998236  1.441590 -0.988848 -1.447624 -2.456474 -0.528337   \n",
       "15038 -1.430734 -0.935839  1.334652 -1.016605 -1.464635 -2.051083  0.057689   \n",
       "\n",
       "            CDP        CO       NOX  \n",
       "0     -1.357331  0.532012  1.387845  \n",
       "1     -1.363676  0.568733  1.393002  \n",
       "2     -1.360957  0.552938  1.363586  \n",
       "3     -1.356424  0.548933  1.382878  \n",
       "4     -1.350985  0.574179  1.348591  \n",
       "...         ...       ...       ...  \n",
       "15034 -1.543161  1.145792  1.085751  \n",
       "15035 -1.513247  1.293578  1.119943  \n",
       "15036 -1.467922  2.695925  2.170062  \n",
       "15037 -1.422598  1.924683  2.391165  \n",
       "15038 -1.377273  1.354150  2.321539  \n",
       "\n",
       "[15039 rows x 10 columns]"
      ]
     },
     "execution_count": 16,
     "metadata": {},
     "output_type": "execute_result"
    }
   ],
   "source": [
    "X"
   ]
  },
  {
   "cell_type": "code",
   "execution_count": 17,
   "id": "7e7b2b80",
   "metadata": {},
   "outputs": [
    {
     "data": {
      "text/plain": [
       "0       -1.231172\n",
       "1       -1.229909\n",
       "2       -1.230541\n",
       "3       -1.229909\n",
       "4       -1.229909\n",
       "           ...   \n",
       "15034   -1.426381\n",
       "15035   -1.415642\n",
       "15036   -1.516089\n",
       "15037   -1.481343\n",
       "15038   -1.428277\n",
       "Name: TEY, Length: 15039, dtype: float64"
      ]
     },
     "execution_count": 17,
     "metadata": {},
     "output_type": "execute_result"
    }
   ],
   "source": [
    "y"
   ]
  },
  {
   "cell_type": "code",
   "execution_count": 18,
   "id": "7284dcb8",
   "metadata": {},
   "outputs": [],
   "source": [
    "# Importing the necessary packages\n",
    "from sklearn.model_selection import GridSearchCV, KFold\n",
    "from keras.models import Sequential\n",
    "from keras.layers import Dense\n",
    "from keras.wrappers.scikit_learn import KerasClassifier\n",
    "#from keras.optimizers import Adam\n",
    "from tensorflow.keras.optimizers import Adam, SGD, RMSprop"
   ]
  },
  {
   "cell_type": "code",
   "execution_count": 19,
   "id": "3c75a769",
   "metadata": {},
   "outputs": [
    {
     "data": {
      "text/plain": [
       "10"
      ]
     },
     "execution_count": 19,
     "metadata": {},
     "output_type": "execute_result"
    }
   ],
   "source": [
    "n_features =X.shape[1]\n",
    "n_features"
   ]
  },
  {
   "cell_type": "code",
   "execution_count": 20,
   "id": "2708141a",
   "metadata": {},
   "outputs": [],
   "source": [
    "# create model\n",
    "def create_model():\n",
    "    model = Sequential()\n",
    "    model.add(Dense(12, input_dim=n_features, kernel_initializer='uniform', activation='relu'))\n",
    "    model.add(Dense(8, kernel_initializer='uniform', activation='relu'))\n",
    "    model.add(Dense(1, kernel_initializer='uniform', activation='sigmoid'))\n",
    "    #here we take loss func as means_squared_error coz its regression classifier\n",
    "    optmizer =RMSprop(0.03)#Learning_rate is 0.03\n",
    "    model.compile(loss='mean_squared_error', optimizer=optmizer, metrics=['accuracy'])\n",
    "    return model"
   ]
  },
  {
   "cell_type": "code",
   "execution_count": 21,
   "id": "4cf61dd5",
   "metadata": {},
   "outputs": [
    {
     "name": "stderr",
     "output_type": "stream",
     "text": [
      "C:\\Users\\vinod kumar N\\AppData\\Local\\Temp\\ipykernel_18312\\1728840933.py:2: DeprecationWarning: KerasClassifier is deprecated, use Sci-Keras (https://github.com/adriangb/scikeras) instead. See https://www.adriangb.com/scikeras/stable/migration.html for help migrating.\n",
      "  model = KerasClassifier(build_fn = create_model,verbose = 0)\n"
     ]
    },
    {
     "name": "stdout",
     "output_type": "stream",
     "text": [
      "Fitting 5 folds for each of 9 candidates, totalling 45 fits\n",
      "[CV 1/5; 1/9] START batch_size=10, epochs=10....................................\n",
      "[CV 1/5; 1/9] END .....batch_size=10, epochs=10;, score=0.000 total time=  36.5s\n",
      "[CV 2/5; 1/9] START batch_size=10, epochs=10....................................\n",
      "[CV 2/5; 1/9] END .....batch_size=10, epochs=10;, score=0.000 total time=  33.3s\n",
      "[CV 3/5; 1/9] START batch_size=10, epochs=10....................................\n",
      "[CV 3/5; 1/9] END .....batch_size=10, epochs=10;, score=0.000 total time=  33.7s\n",
      "[CV 4/5; 1/9] START batch_size=10, epochs=10....................................\n",
      "[CV 4/5; 1/9] END .....batch_size=10, epochs=10;, score=0.000 total time=  34.2s\n",
      "[CV 5/5; 1/9] START batch_size=10, epochs=10....................................\n",
      "[CV 5/5; 1/9] END .....batch_size=10, epochs=10;, score=0.000 total time=  33.4s\n",
      "[CV 1/5; 2/9] START batch_size=10, epochs=50....................................\n",
      "[CV 1/5; 2/9] END .....batch_size=10, epochs=50;, score=0.000 total time= 2.6min\n",
      "[CV 2/5; 2/9] START batch_size=10, epochs=50....................................\n",
      "[CV 2/5; 2/9] END .....batch_size=10, epochs=50;, score=0.000 total time= 2.6min\n",
      "[CV 3/5; 2/9] START batch_size=10, epochs=50....................................\n",
      "[CV 3/5; 2/9] END .....batch_size=10, epochs=50;, score=0.000 total time= 2.8min\n",
      "[CV 4/5; 2/9] START batch_size=10, epochs=50....................................\n",
      "[CV 4/5; 2/9] END .....batch_size=10, epochs=50;, score=0.000 total time= 2.7min\n",
      "[CV 5/5; 2/9] START batch_size=10, epochs=50....................................\n",
      "[CV 5/5; 2/9] END .....batch_size=10, epochs=50;, score=0.000 total time= 2.7min\n",
      "[CV 1/5; 3/9] START batch_size=10, epochs=100...................................\n",
      "[CV 1/5; 3/9] END ....batch_size=10, epochs=100;, score=0.000 total time= 4.8min\n",
      "[CV 2/5; 3/9] START batch_size=10, epochs=100...................................\n",
      "[CV 2/5; 3/9] END ....batch_size=10, epochs=100;, score=0.000 total time= 3.5min\n",
      "[CV 3/5; 3/9] START batch_size=10, epochs=100...................................\n",
      "[CV 3/5; 3/9] END ....batch_size=10, epochs=100;, score=0.000 total time= 3.6min\n",
      "[CV 4/5; 3/9] START batch_size=10, epochs=100...................................\n",
      "[CV 4/5; 3/9] END ....batch_size=10, epochs=100;, score=0.000 total time= 3.6min\n",
      "[CV 5/5; 3/9] START batch_size=10, epochs=100...................................\n",
      "[CV 5/5; 3/9] END ....batch_size=10, epochs=100;, score=0.000 total time= 3.8min\n",
      "[CV 1/5; 4/9] START batch_size=20, epochs=10....................................\n",
      "[CV 1/5; 4/9] END .....batch_size=20, epochs=10;, score=0.000 total time=  13.0s\n",
      "[CV 2/5; 4/9] START batch_size=20, epochs=10....................................\n",
      "[CV 2/5; 4/9] END .....batch_size=20, epochs=10;, score=0.000 total time=  12.9s\n",
      "[CV 3/5; 4/9] START batch_size=20, epochs=10....................................\n",
      "[CV 3/5; 4/9] END .....batch_size=20, epochs=10;, score=0.000 total time=  12.9s\n",
      "[CV 4/5; 4/9] START batch_size=20, epochs=10....................................\n",
      "[CV 4/5; 4/9] END .....batch_size=20, epochs=10;, score=0.000 total time=  12.9s\n",
      "[CV 5/5; 4/9] START batch_size=20, epochs=10....................................\n",
      "[CV 5/5; 4/9] END .....batch_size=20, epochs=10;, score=0.000 total time=  12.8s\n",
      "[CV 1/5; 5/9] START batch_size=20, epochs=50....................................\n",
      "[CV 1/5; 5/9] END .....batch_size=20, epochs=50;, score=0.000 total time=  54.3s\n",
      "[CV 2/5; 5/9] START batch_size=20, epochs=50....................................\n",
      "[CV 2/5; 5/9] END .....batch_size=20, epochs=50;, score=0.000 total time=  51.1s\n",
      "[CV 3/5; 5/9] START batch_size=20, epochs=50....................................\n",
      "[CV 3/5; 5/9] END .....batch_size=20, epochs=50;, score=0.000 total time=  52.0s\n",
      "[CV 4/5; 5/9] START batch_size=20, epochs=50....................................\n",
      "[CV 4/5; 5/9] END .....batch_size=20, epochs=50;, score=0.000 total time=  51.0s\n",
      "[CV 5/5; 5/9] START batch_size=20, epochs=50....................................\n",
      "[CV 5/5; 5/9] END .....batch_size=20, epochs=50;, score=0.000 total time=  50.6s\n",
      "[CV 1/5; 6/9] START batch_size=20, epochs=100...................................\n",
      "[CV 1/5; 6/9] END ....batch_size=20, epochs=100;, score=0.000 total time= 2.1min\n",
      "[CV 2/5; 6/9] START batch_size=20, epochs=100...................................\n",
      "[CV 2/5; 6/9] END ....batch_size=20, epochs=100;, score=0.000 total time= 2.2min\n",
      "[CV 3/5; 6/9] START batch_size=20, epochs=100...................................\n",
      "[CV 3/5; 6/9] END ....batch_size=20, epochs=100;, score=0.000 total time= 1.9min\n",
      "[CV 4/5; 6/9] START batch_size=20, epochs=100...................................\n",
      "[CV 4/5; 6/9] END ....batch_size=20, epochs=100;, score=0.000 total time= 1.6min\n",
      "[CV 5/5; 6/9] START batch_size=20, epochs=100...................................\n",
      "[CV 5/5; 6/9] END ....batch_size=20, epochs=100;, score=0.000 total time= 1.6min\n",
      "[CV 1/5; 7/9] START batch_size=40, epochs=10....................................\n",
      "[CV 1/5; 7/9] END .....batch_size=40, epochs=10;, score=0.000 total time=   6.6s\n",
      "[CV 2/5; 7/9] START batch_size=40, epochs=10....................................\n",
      "[CV 2/5; 7/9] END .....batch_size=40, epochs=10;, score=0.000 total time=   7.9s\n",
      "[CV 3/5; 7/9] START batch_size=40, epochs=10....................................\n",
      "[CV 3/5; 7/9] END .....batch_size=40, epochs=10;, score=0.000 total time=   7.2s\n",
      "[CV 4/5; 7/9] START batch_size=40, epochs=10....................................\n",
      "[CV 4/5; 7/9] END .....batch_size=40, epochs=10;, score=0.000 total time=   6.6s\n",
      "[CV 5/5; 7/9] START batch_size=40, epochs=10....................................\n",
      "[CV 5/5; 7/9] END .....batch_size=40, epochs=10;, score=0.000 total time=   6.6s\n",
      "[CV 1/5; 8/9] START batch_size=40, epochs=50....................................\n",
      "[CV 1/5; 8/9] END .....batch_size=40, epochs=50;, score=0.000 total time=  26.6s\n",
      "[CV 2/5; 8/9] START batch_size=40, epochs=50....................................\n",
      "[CV 2/5; 8/9] END .....batch_size=40, epochs=50;, score=0.000 total time=  25.2s\n",
      "[CV 3/5; 8/9] START batch_size=40, epochs=50....................................\n",
      "[CV 3/5; 8/9] END .....batch_size=40, epochs=50;, score=0.000 total time=  25.6s\n",
      "[CV 4/5; 8/9] START batch_size=40, epochs=50....................................\n",
      "[CV 4/5; 8/9] END .....batch_size=40, epochs=50;, score=0.000 total time=  26.2s\n",
      "[CV 5/5; 8/9] START batch_size=40, epochs=50....................................\n",
      "[CV 5/5; 8/9] END .....batch_size=40, epochs=50;, score=0.000 total time=  25.6s\n",
      "[CV 1/5; 9/9] START batch_size=40, epochs=100...................................\n",
      "[CV 1/5; 9/9] END ....batch_size=40, epochs=100;, score=0.000 total time=  50.6s\n",
      "[CV 2/5; 9/9] START batch_size=40, epochs=100...................................\n",
      "[CV 2/5; 9/9] END ....batch_size=40, epochs=100;, score=0.000 total time=  49.7s\n",
      "[CV 3/5; 9/9] START batch_size=40, epochs=100...................................\n",
      "[CV 3/5; 9/9] END ....batch_size=40, epochs=100;, score=0.000 total time=  51.5s\n",
      "[CV 4/5; 9/9] START batch_size=40, epochs=100...................................\n",
      "[CV 4/5; 9/9] END ....batch_size=40, epochs=100;, score=0.000 total time=  50.6s\n",
      "[CV 5/5; 9/9] START batch_size=40, epochs=100...................................\n",
      "[CV 5/5; 9/9] END ....batch_size=40, epochs=100;, score=0.000 total time=  59.6s\n"
     ]
    }
   ],
   "source": [
    "# Create the model\n",
    "model = KerasClassifier(build_fn = create_model,verbose = 0)\n",
    "# Define the grid search parameters\n",
    "batch_size = [10,20,40]\n",
    "epochs = [10,50,100]\n",
    "# Make a dictionary of the grid search parameters\n",
    "param_grid = dict(batch_size = batch_size,epochs = epochs)\n",
    "# Build and fit the GridSearchCV\n",
    "grid = GridSearchCV(estimator = model,param_grid = param_grid,cv = KFold(),verbose = 10)\n",
    "grid_result = grid.fit(X,y)"
   ]
  },
  {
   "cell_type": "code",
   "execution_count": 22,
   "id": "e016d954",
   "metadata": {},
   "outputs": [
    {
     "name": "stdout",
     "output_type": "stream",
     "text": [
      "Best : 0.0, using {'batch_size': 10, 'epochs': 10}\n",
      "0.0,0.0 with: {'batch_size': 10, 'epochs': 10}\n",
      "0.0,0.0 with: {'batch_size': 10, 'epochs': 50}\n",
      "0.0,0.0 with: {'batch_size': 10, 'epochs': 100}\n",
      "0.0,0.0 with: {'batch_size': 20, 'epochs': 10}\n",
      "0.0,0.0 with: {'batch_size': 20, 'epochs': 50}\n",
      "0.0,0.0 with: {'batch_size': 20, 'epochs': 100}\n",
      "0.0,0.0 with: {'batch_size': 40, 'epochs': 10}\n",
      "0.0,0.0 with: {'batch_size': 40, 'epochs': 50}\n",
      "0.0,0.0 with: {'batch_size': 40, 'epochs': 100}\n"
     ]
    }
   ],
   "source": [
    "# Summarize the results\n",
    "print('Best : {}, using {}'.format(grid_result.best_score_,grid_result.best_params_))\n",
    "means = grid_result.cv_results_['mean_test_score']\n",
    "stds = grid_result.cv_results_['std_test_score']\n",
    "params = grid_result.cv_results_['params']\n",
    "for mean, stdev, param in zip(means, stds, params):\n",
    "    print('{},{} with: {}'.format(mean, stdev, param))"
   ]
  },
  {
   "cell_type": "code",
   "execution_count": 23,
   "id": "2d9a4cdb",
   "metadata": {},
   "outputs": [],
   "source": [
    "#so we get best batch size as 10 and best epoch as 10"
   ]
  },
  {
   "cell_type": "code",
   "execution_count": 24,
   "id": "ee3d513d",
   "metadata": {},
   "outputs": [],
   "source": [
    "from keras.layers import Dropout\n",
    "\n",
    "# Defining the model\n",
    "\n",
    "def create_model(learning_rate,dropout_rate):\n",
    "    model = Sequential()\n",
    "    model.add(Dense(8,input_dim = n_features,kernel_initializer = 'normal',activation = 'relu'))\n",
    "    model.add(Dropout(dropout_rate))\n",
    "    model.add(Dense(4,input_dim = n_features,kernel_initializer = 'normal',activation = 'relu'))\n",
    "    model.add(Dropout(dropout_rate))\n",
    "    model.add(Dense(1,activation = 'sigmoid'))\n",
    "    \n",
    "    adam = Adam(lr = learning_rate)\n",
    "    model.compile(loss='mean_squared_error',optimizer = adam,metrics = ['accuracy'])\n",
    "    return model"
   ]
  },
  {
   "cell_type": "code",
   "execution_count": 25,
   "id": "fc22b2e2",
   "metadata": {},
   "outputs": [
    {
     "name": "stderr",
     "output_type": "stream",
     "text": [
      "C:\\Users\\vinod kumar N\\AppData\\Local\\Temp\\ipykernel_18312\\3634346431.py:3: DeprecationWarning: KerasClassifier is deprecated, use Sci-Keras (https://github.com/adriangb/scikeras) instead. See https://www.adriangb.com/scikeras/stable/migration.html for help migrating.\n",
      "  model = KerasClassifier(build_fn = create_model,verbose = 0,batch_size = 10,epochs = 10)\n",
      "WARNING:absl:`lr` is deprecated in Keras optimizer, please use `learning_rate` or use the legacy optimizer, e.g.,tf.keras.optimizers.legacy.Adam.\n"
     ]
    },
    {
     "name": "stdout",
     "output_type": "stream",
     "text": [
      "Fitting 5 folds for each of 9 candidates, totalling 45 fits\n",
      "[CV 1/5; 1/9] START dropout_rate=0.0, learning_rate=0.001.......................\n"
     ]
    },
    {
     "name": "stderr",
     "output_type": "stream",
     "text": [
      "WARNING:absl:`lr` is deprecated in Keras optimizer, please use `learning_rate` or use the legacy optimizer, e.g.,tf.keras.optimizers.legacy.Adam.\n"
     ]
    },
    {
     "name": "stdout",
     "output_type": "stream",
     "text": [
      "[CV 1/5; 1/9] END dropout_rate=0.0, learning_rate=0.001;, score=0.000 total time=  24.6s\n",
      "[CV 2/5; 1/9] START dropout_rate=0.0, learning_rate=0.001.......................\n"
     ]
    },
    {
     "name": "stderr",
     "output_type": "stream",
     "text": [
      "WARNING:absl:`lr` is deprecated in Keras optimizer, please use `learning_rate` or use the legacy optimizer, e.g.,tf.keras.optimizers.legacy.Adam.\n"
     ]
    },
    {
     "name": "stdout",
     "output_type": "stream",
     "text": [
      "[CV 2/5; 1/9] END dropout_rate=0.0, learning_rate=0.001;, score=0.000 total time=  21.3s\n",
      "[CV 3/5; 1/9] START dropout_rate=0.0, learning_rate=0.001.......................\n"
     ]
    },
    {
     "name": "stderr",
     "output_type": "stream",
     "text": [
      "WARNING:absl:`lr` is deprecated in Keras optimizer, please use `learning_rate` or use the legacy optimizer, e.g.,tf.keras.optimizers.legacy.Adam.\n"
     ]
    },
    {
     "name": "stdout",
     "output_type": "stream",
     "text": [
      "[CV 3/5; 1/9] END dropout_rate=0.0, learning_rate=0.001;, score=0.000 total time=  21.0s\n",
      "[CV 4/5; 1/9] START dropout_rate=0.0, learning_rate=0.001.......................\n"
     ]
    },
    {
     "name": "stderr",
     "output_type": "stream",
     "text": [
      "WARNING:absl:`lr` is deprecated in Keras optimizer, please use `learning_rate` or use the legacy optimizer, e.g.,tf.keras.optimizers.legacy.Adam.\n"
     ]
    },
    {
     "name": "stdout",
     "output_type": "stream",
     "text": [
      "[CV 4/5; 1/9] END dropout_rate=0.0, learning_rate=0.001;, score=0.000 total time=  21.2s\n",
      "[CV 5/5; 1/9] START dropout_rate=0.0, learning_rate=0.001.......................\n"
     ]
    },
    {
     "name": "stderr",
     "output_type": "stream",
     "text": [
      "WARNING:absl:`lr` is deprecated in Keras optimizer, please use `learning_rate` or use the legacy optimizer, e.g.,tf.keras.optimizers.legacy.Adam.\n"
     ]
    },
    {
     "name": "stdout",
     "output_type": "stream",
     "text": [
      "[CV 5/5; 1/9] END dropout_rate=0.0, learning_rate=0.001;, score=0.000 total time=  21.6s\n",
      "[CV 1/5; 2/9] START dropout_rate=0.0, learning_rate=0.01........................\n"
     ]
    },
    {
     "name": "stderr",
     "output_type": "stream",
     "text": [
      "WARNING:absl:`lr` is deprecated in Keras optimizer, please use `learning_rate` or use the legacy optimizer, e.g.,tf.keras.optimizers.legacy.Adam.\n"
     ]
    },
    {
     "name": "stdout",
     "output_type": "stream",
     "text": [
      "[CV 1/5; 2/9] END dropout_rate=0.0, learning_rate=0.01;, score=0.000 total time=  21.6s\n",
      "[CV 2/5; 2/9] START dropout_rate=0.0, learning_rate=0.01........................\n"
     ]
    },
    {
     "name": "stderr",
     "output_type": "stream",
     "text": [
      "WARNING:absl:`lr` is deprecated in Keras optimizer, please use `learning_rate` or use the legacy optimizer, e.g.,tf.keras.optimizers.legacy.Adam.\n"
     ]
    },
    {
     "name": "stdout",
     "output_type": "stream",
     "text": [
      "[CV 2/5; 2/9] END dropout_rate=0.0, learning_rate=0.01;, score=0.000 total time=  21.3s\n",
      "[CV 3/5; 2/9] START dropout_rate=0.0, learning_rate=0.01........................\n"
     ]
    },
    {
     "name": "stderr",
     "output_type": "stream",
     "text": [
      "WARNING:absl:`lr` is deprecated in Keras optimizer, please use `learning_rate` or use the legacy optimizer, e.g.,tf.keras.optimizers.legacy.Adam.\n"
     ]
    },
    {
     "name": "stdout",
     "output_type": "stream",
     "text": [
      "[CV 3/5; 2/9] END dropout_rate=0.0, learning_rate=0.01;, score=0.000 total time=  21.2s\n",
      "[CV 4/5; 2/9] START dropout_rate=0.0, learning_rate=0.01........................\n"
     ]
    },
    {
     "name": "stderr",
     "output_type": "stream",
     "text": [
      "WARNING:absl:`lr` is deprecated in Keras optimizer, please use `learning_rate` or use the legacy optimizer, e.g.,tf.keras.optimizers.legacy.Adam.\n"
     ]
    },
    {
     "name": "stdout",
     "output_type": "stream",
     "text": [
      "[CV 4/5; 2/9] END dropout_rate=0.0, learning_rate=0.01;, score=0.000 total time=  21.3s\n",
      "[CV 5/5; 2/9] START dropout_rate=0.0, learning_rate=0.01........................\n"
     ]
    },
    {
     "name": "stderr",
     "output_type": "stream",
     "text": [
      "WARNING:absl:`lr` is deprecated in Keras optimizer, please use `learning_rate` or use the legacy optimizer, e.g.,tf.keras.optimizers.legacy.Adam.\n"
     ]
    },
    {
     "name": "stdout",
     "output_type": "stream",
     "text": [
      "[CV 5/5; 2/9] END dropout_rate=0.0, learning_rate=0.01;, score=0.000 total time=  21.6s\n",
      "[CV 1/5; 3/9] START dropout_rate=0.0, learning_rate=0.1.........................\n"
     ]
    },
    {
     "name": "stderr",
     "output_type": "stream",
     "text": [
      "WARNING:absl:`lr` is deprecated in Keras optimizer, please use `learning_rate` or use the legacy optimizer, e.g.,tf.keras.optimizers.legacy.Adam.\n"
     ]
    },
    {
     "name": "stdout",
     "output_type": "stream",
     "text": [
      "[CV 1/5; 3/9] END dropout_rate=0.0, learning_rate=0.1;, score=0.000 total time=  21.2s\n",
      "[CV 2/5; 3/9] START dropout_rate=0.0, learning_rate=0.1.........................\n"
     ]
    },
    {
     "name": "stderr",
     "output_type": "stream",
     "text": [
      "WARNING:absl:`lr` is deprecated in Keras optimizer, please use `learning_rate` or use the legacy optimizer, e.g.,tf.keras.optimizers.legacy.Adam.\n"
     ]
    },
    {
     "name": "stdout",
     "output_type": "stream",
     "text": [
      "[CV 2/5; 3/9] END dropout_rate=0.0, learning_rate=0.1;, score=0.000 total time=  20.8s\n",
      "[CV 3/5; 3/9] START dropout_rate=0.0, learning_rate=0.1.........................\n"
     ]
    },
    {
     "name": "stderr",
     "output_type": "stream",
     "text": [
      "WARNING:absl:`lr` is deprecated in Keras optimizer, please use `learning_rate` or use the legacy optimizer, e.g.,tf.keras.optimizers.legacy.Adam.\n"
     ]
    },
    {
     "name": "stdout",
     "output_type": "stream",
     "text": [
      "[CV 3/5; 3/9] END dropout_rate=0.0, learning_rate=0.1;, score=0.000 total time=  22.0s\n",
      "[CV 4/5; 3/9] START dropout_rate=0.0, learning_rate=0.1.........................\n"
     ]
    },
    {
     "name": "stderr",
     "output_type": "stream",
     "text": [
      "WARNING:absl:`lr` is deprecated in Keras optimizer, please use `learning_rate` or use the legacy optimizer, e.g.,tf.keras.optimizers.legacy.Adam.\n"
     ]
    },
    {
     "name": "stdout",
     "output_type": "stream",
     "text": [
      "[CV 4/5; 3/9] END dropout_rate=0.0, learning_rate=0.1;, score=0.000 total time=  22.0s\n",
      "[CV 5/5; 3/9] START dropout_rate=0.0, learning_rate=0.1.........................\n"
     ]
    },
    {
     "name": "stderr",
     "output_type": "stream",
     "text": [
      "WARNING:absl:`lr` is deprecated in Keras optimizer, please use `learning_rate` or use the legacy optimizer, e.g.,tf.keras.optimizers.legacy.Adam.\n"
     ]
    },
    {
     "name": "stdout",
     "output_type": "stream",
     "text": [
      "[CV 5/5; 3/9] END dropout_rate=0.0, learning_rate=0.1;, score=0.000 total time=  22.0s\n",
      "[CV 1/5; 4/9] START dropout_rate=0.1, learning_rate=0.001.......................\n"
     ]
    },
    {
     "name": "stderr",
     "output_type": "stream",
     "text": [
      "WARNING:absl:`lr` is deprecated in Keras optimizer, please use `learning_rate` or use the legacy optimizer, e.g.,tf.keras.optimizers.legacy.Adam.\n"
     ]
    },
    {
     "name": "stdout",
     "output_type": "stream",
     "text": [
      "[CV 1/5; 4/9] END dropout_rate=0.1, learning_rate=0.001;, score=0.000 total time=  23.1s\n",
      "[CV 2/5; 4/9] START dropout_rate=0.1, learning_rate=0.001.......................\n"
     ]
    },
    {
     "name": "stderr",
     "output_type": "stream",
     "text": [
      "WARNING:absl:`lr` is deprecated in Keras optimizer, please use `learning_rate` or use the legacy optimizer, e.g.,tf.keras.optimizers.legacy.Adam.\n"
     ]
    },
    {
     "name": "stdout",
     "output_type": "stream",
     "text": [
      "[CV 2/5; 4/9] END dropout_rate=0.1, learning_rate=0.001;, score=0.000 total time=  22.6s\n",
      "[CV 3/5; 4/9] START dropout_rate=0.1, learning_rate=0.001.......................\n"
     ]
    },
    {
     "name": "stderr",
     "output_type": "stream",
     "text": [
      "WARNING:absl:`lr` is deprecated in Keras optimizer, please use `learning_rate` or use the legacy optimizer, e.g.,tf.keras.optimizers.legacy.Adam.\n"
     ]
    },
    {
     "name": "stdout",
     "output_type": "stream",
     "text": [
      "[CV 3/5; 4/9] END dropout_rate=0.1, learning_rate=0.001;, score=0.000 total time=  22.9s\n",
      "[CV 4/5; 4/9] START dropout_rate=0.1, learning_rate=0.001.......................\n"
     ]
    },
    {
     "name": "stderr",
     "output_type": "stream",
     "text": [
      "WARNING:absl:`lr` is deprecated in Keras optimizer, please use `learning_rate` or use the legacy optimizer, e.g.,tf.keras.optimizers.legacy.Adam.\n"
     ]
    },
    {
     "name": "stdout",
     "output_type": "stream",
     "text": [
      "[CV 4/5; 4/9] END dropout_rate=0.1, learning_rate=0.001;, score=0.000 total time=  22.7s\n",
      "[CV 5/5; 4/9] START dropout_rate=0.1, learning_rate=0.001.......................\n"
     ]
    },
    {
     "name": "stderr",
     "output_type": "stream",
     "text": [
      "WARNING:absl:`lr` is deprecated in Keras optimizer, please use `learning_rate` or use the legacy optimizer, e.g.,tf.keras.optimizers.legacy.Adam.\n"
     ]
    },
    {
     "name": "stdout",
     "output_type": "stream",
     "text": [
      "[CV 5/5; 4/9] END dropout_rate=0.1, learning_rate=0.001;, score=0.000 total time=  23.4s\n",
      "[CV 1/5; 5/9] START dropout_rate=0.1, learning_rate=0.01........................\n"
     ]
    },
    {
     "name": "stderr",
     "output_type": "stream",
     "text": [
      "WARNING:absl:`lr` is deprecated in Keras optimizer, please use `learning_rate` or use the legacy optimizer, e.g.,tf.keras.optimizers.legacy.Adam.\n"
     ]
    },
    {
     "name": "stdout",
     "output_type": "stream",
     "text": [
      "[CV 1/5; 5/9] END dropout_rate=0.1, learning_rate=0.01;, score=0.000 total time=  22.8s\n",
      "[CV 2/5; 5/9] START dropout_rate=0.1, learning_rate=0.01........................\n"
     ]
    },
    {
     "name": "stderr",
     "output_type": "stream",
     "text": [
      "WARNING:absl:`lr` is deprecated in Keras optimizer, please use `learning_rate` or use the legacy optimizer, e.g.,tf.keras.optimizers.legacy.Adam.\n"
     ]
    },
    {
     "name": "stdout",
     "output_type": "stream",
     "text": [
      "[CV 2/5; 5/9] END dropout_rate=0.1, learning_rate=0.01;, score=0.000 total time=  22.7s\n",
      "[CV 3/5; 5/9] START dropout_rate=0.1, learning_rate=0.01........................\n"
     ]
    },
    {
     "name": "stderr",
     "output_type": "stream",
     "text": [
      "WARNING:absl:`lr` is deprecated in Keras optimizer, please use `learning_rate` or use the legacy optimizer, e.g.,tf.keras.optimizers.legacy.Adam.\n"
     ]
    },
    {
     "name": "stdout",
     "output_type": "stream",
     "text": [
      "[CV 3/5; 5/9] END dropout_rate=0.1, learning_rate=0.01;, score=0.000 total time=  22.5s\n",
      "[CV 4/5; 5/9] START dropout_rate=0.1, learning_rate=0.01........................\n"
     ]
    },
    {
     "name": "stderr",
     "output_type": "stream",
     "text": [
      "WARNING:absl:`lr` is deprecated in Keras optimizer, please use `learning_rate` or use the legacy optimizer, e.g.,tf.keras.optimizers.legacy.Adam.\n"
     ]
    },
    {
     "name": "stdout",
     "output_type": "stream",
     "text": [
      "[CV 4/5; 5/9] END dropout_rate=0.1, learning_rate=0.01;, score=0.000 total time=  22.4s\n",
      "[CV 5/5; 5/9] START dropout_rate=0.1, learning_rate=0.01........................\n"
     ]
    },
    {
     "name": "stderr",
     "output_type": "stream",
     "text": [
      "WARNING:absl:`lr` is deprecated in Keras optimizer, please use `learning_rate` or use the legacy optimizer, e.g.,tf.keras.optimizers.legacy.Adam.\n"
     ]
    },
    {
     "name": "stdout",
     "output_type": "stream",
     "text": [
      "[CV 5/5; 5/9] END dropout_rate=0.1, learning_rate=0.01;, score=0.000 total time=  22.5s\n",
      "[CV 1/5; 6/9] START dropout_rate=0.1, learning_rate=0.1.........................\n"
     ]
    },
    {
     "name": "stderr",
     "output_type": "stream",
     "text": [
      "WARNING:absl:`lr` is deprecated in Keras optimizer, please use `learning_rate` or use the legacy optimizer, e.g.,tf.keras.optimizers.legacy.Adam.\n"
     ]
    },
    {
     "name": "stdout",
     "output_type": "stream",
     "text": [
      "[CV 1/5; 6/9] END dropout_rate=0.1, learning_rate=0.1;, score=0.000 total time=  22.4s\n",
      "[CV 2/5; 6/9] START dropout_rate=0.1, learning_rate=0.1.........................\n"
     ]
    },
    {
     "name": "stderr",
     "output_type": "stream",
     "text": [
      "WARNING:absl:`lr` is deprecated in Keras optimizer, please use `learning_rate` or use the legacy optimizer, e.g.,tf.keras.optimizers.legacy.Adam.\n"
     ]
    },
    {
     "name": "stdout",
     "output_type": "stream",
     "text": [
      "[CV 2/5; 6/9] END dropout_rate=0.1, learning_rate=0.1;, score=0.000 total time=  22.1s\n",
      "[CV 3/5; 6/9] START dropout_rate=0.1, learning_rate=0.1.........................\n"
     ]
    },
    {
     "name": "stderr",
     "output_type": "stream",
     "text": [
      "WARNING:absl:`lr` is deprecated in Keras optimizer, please use `learning_rate` or use the legacy optimizer, e.g.,tf.keras.optimizers.legacy.Adam.\n"
     ]
    },
    {
     "name": "stdout",
     "output_type": "stream",
     "text": [
      "[CV 3/5; 6/9] END dropout_rate=0.1, learning_rate=0.1;, score=0.000 total time=  22.2s\n",
      "[CV 4/5; 6/9] START dropout_rate=0.1, learning_rate=0.1.........................\n"
     ]
    },
    {
     "name": "stderr",
     "output_type": "stream",
     "text": [
      "WARNING:absl:`lr` is deprecated in Keras optimizer, please use `learning_rate` or use the legacy optimizer, e.g.,tf.keras.optimizers.legacy.Adam.\n"
     ]
    },
    {
     "name": "stdout",
     "output_type": "stream",
     "text": [
      "[CV 4/5; 6/9] END dropout_rate=0.1, learning_rate=0.1;, score=0.000 total time=  22.6s\n",
      "[CV 5/5; 6/9] START dropout_rate=0.1, learning_rate=0.1.........................\n"
     ]
    },
    {
     "name": "stderr",
     "output_type": "stream",
     "text": [
      "WARNING:absl:`lr` is deprecated in Keras optimizer, please use `learning_rate` or use the legacy optimizer, e.g.,tf.keras.optimizers.legacy.Adam.\n"
     ]
    },
    {
     "name": "stdout",
     "output_type": "stream",
     "text": [
      "[CV 5/5; 6/9] END dropout_rate=0.1, learning_rate=0.1;, score=0.000 total time=  23.4s\n",
      "[CV 1/5; 7/9] START dropout_rate=0.2, learning_rate=0.001.......................\n"
     ]
    },
    {
     "name": "stderr",
     "output_type": "stream",
     "text": [
      "WARNING:absl:`lr` is deprecated in Keras optimizer, please use `learning_rate` or use the legacy optimizer, e.g.,tf.keras.optimizers.legacy.Adam.\n"
     ]
    },
    {
     "name": "stdout",
     "output_type": "stream",
     "text": [
      "[CV 1/5; 7/9] END dropout_rate=0.2, learning_rate=0.001;, score=0.000 total time=  22.6s\n",
      "[CV 2/5; 7/9] START dropout_rate=0.2, learning_rate=0.001.......................\n"
     ]
    },
    {
     "name": "stderr",
     "output_type": "stream",
     "text": [
      "WARNING:absl:`lr` is deprecated in Keras optimizer, please use `learning_rate` or use the legacy optimizer, e.g.,tf.keras.optimizers.legacy.Adam.\n"
     ]
    },
    {
     "name": "stdout",
     "output_type": "stream",
     "text": [
      "[CV 2/5; 7/9] END dropout_rate=0.2, learning_rate=0.001;, score=0.000 total time=  22.6s\n",
      "[CV 3/5; 7/9] START dropout_rate=0.2, learning_rate=0.001.......................\n"
     ]
    },
    {
     "name": "stderr",
     "output_type": "stream",
     "text": [
      "WARNING:absl:`lr` is deprecated in Keras optimizer, please use `learning_rate` or use the legacy optimizer, e.g.,tf.keras.optimizers.legacy.Adam.\n"
     ]
    },
    {
     "name": "stdout",
     "output_type": "stream",
     "text": [
      "[CV 3/5; 7/9] END dropout_rate=0.2, learning_rate=0.001;, score=0.000 total time=  22.5s\n",
      "[CV 4/5; 7/9] START dropout_rate=0.2, learning_rate=0.001.......................\n"
     ]
    },
    {
     "name": "stderr",
     "output_type": "stream",
     "text": [
      "WARNING:absl:`lr` is deprecated in Keras optimizer, please use `learning_rate` or use the legacy optimizer, e.g.,tf.keras.optimizers.legacy.Adam.\n"
     ]
    },
    {
     "name": "stdout",
     "output_type": "stream",
     "text": [
      "[CV 4/5; 7/9] END dropout_rate=0.2, learning_rate=0.001;, score=0.000 total time=  22.6s\n",
      "[CV 5/5; 7/9] START dropout_rate=0.2, learning_rate=0.001.......................\n"
     ]
    },
    {
     "name": "stderr",
     "output_type": "stream",
     "text": [
      "WARNING:absl:`lr` is deprecated in Keras optimizer, please use `learning_rate` or use the legacy optimizer, e.g.,tf.keras.optimizers.legacy.Adam.\n"
     ]
    },
    {
     "name": "stdout",
     "output_type": "stream",
     "text": [
      "[CV 5/5; 7/9] END dropout_rate=0.2, learning_rate=0.001;, score=0.000 total time=  22.6s\n",
      "[CV 1/5; 8/9] START dropout_rate=0.2, learning_rate=0.01........................\n"
     ]
    },
    {
     "name": "stderr",
     "output_type": "stream",
     "text": [
      "WARNING:absl:`lr` is deprecated in Keras optimizer, please use `learning_rate` or use the legacy optimizer, e.g.,tf.keras.optimizers.legacy.Adam.\n"
     ]
    },
    {
     "name": "stdout",
     "output_type": "stream",
     "text": [
      "[CV 1/5; 8/9] END dropout_rate=0.2, learning_rate=0.01;, score=0.000 total time=  22.7s\n",
      "[CV 2/5; 8/9] START dropout_rate=0.2, learning_rate=0.01........................\n"
     ]
    },
    {
     "name": "stderr",
     "output_type": "stream",
     "text": [
      "WARNING:absl:`lr` is deprecated in Keras optimizer, please use `learning_rate` or use the legacy optimizer, e.g.,tf.keras.optimizers.legacy.Adam.\n"
     ]
    },
    {
     "name": "stdout",
     "output_type": "stream",
     "text": [
      "[CV 2/5; 8/9] END dropout_rate=0.2, learning_rate=0.01;, score=0.000 total time=  23.0s\n",
      "[CV 3/5; 8/9] START dropout_rate=0.2, learning_rate=0.01........................\n"
     ]
    },
    {
     "name": "stderr",
     "output_type": "stream",
     "text": [
      "WARNING:absl:`lr` is deprecated in Keras optimizer, please use `learning_rate` or use the legacy optimizer, e.g.,tf.keras.optimizers.legacy.Adam.\n"
     ]
    },
    {
     "name": "stdout",
     "output_type": "stream",
     "text": [
      "[CV 3/5; 8/9] END dropout_rate=0.2, learning_rate=0.01;, score=0.000 total time=  22.4s\n",
      "[CV 4/5; 8/9] START dropout_rate=0.2, learning_rate=0.01........................\n"
     ]
    },
    {
     "name": "stderr",
     "output_type": "stream",
     "text": [
      "WARNING:absl:`lr` is deprecated in Keras optimizer, please use `learning_rate` or use the legacy optimizer, e.g.,tf.keras.optimizers.legacy.Adam.\n"
     ]
    },
    {
     "name": "stdout",
     "output_type": "stream",
     "text": [
      "[CV 4/5; 8/9] END dropout_rate=0.2, learning_rate=0.01;, score=0.000 total time=  22.4s\n",
      "[CV 5/5; 8/9] START dropout_rate=0.2, learning_rate=0.01........................\n"
     ]
    },
    {
     "name": "stderr",
     "output_type": "stream",
     "text": [
      "WARNING:absl:`lr` is deprecated in Keras optimizer, please use `learning_rate` or use the legacy optimizer, e.g.,tf.keras.optimizers.legacy.Adam.\n"
     ]
    },
    {
     "name": "stdout",
     "output_type": "stream",
     "text": [
      "[CV 5/5; 8/9] END dropout_rate=0.2, learning_rate=0.01;, score=0.000 total time=  22.8s\n",
      "[CV 1/5; 9/9] START dropout_rate=0.2, learning_rate=0.1.........................\n"
     ]
    },
    {
     "name": "stderr",
     "output_type": "stream",
     "text": [
      "WARNING:absl:`lr` is deprecated in Keras optimizer, please use `learning_rate` or use the legacy optimizer, e.g.,tf.keras.optimizers.legacy.Adam.\n"
     ]
    },
    {
     "name": "stdout",
     "output_type": "stream",
     "text": [
      "[CV 1/5; 9/9] END dropout_rate=0.2, learning_rate=0.1;, score=0.000 total time=  22.4s\n",
      "[CV 2/5; 9/9] START dropout_rate=0.2, learning_rate=0.1.........................\n"
     ]
    },
    {
     "name": "stderr",
     "output_type": "stream",
     "text": [
      "WARNING:absl:`lr` is deprecated in Keras optimizer, please use `learning_rate` or use the legacy optimizer, e.g.,tf.keras.optimizers.legacy.Adam.\n"
     ]
    },
    {
     "name": "stdout",
     "output_type": "stream",
     "text": [
      "[CV 2/5; 9/9] END dropout_rate=0.2, learning_rate=0.1;, score=0.000 total time=  23.2s\n",
      "[CV 3/5; 9/9] START dropout_rate=0.2, learning_rate=0.1.........................\n"
     ]
    },
    {
     "name": "stderr",
     "output_type": "stream",
     "text": [
      "WARNING:absl:`lr` is deprecated in Keras optimizer, please use `learning_rate` or use the legacy optimizer, e.g.,tf.keras.optimizers.legacy.Adam.\n"
     ]
    },
    {
     "name": "stdout",
     "output_type": "stream",
     "text": [
      "[CV 3/5; 9/9] END dropout_rate=0.2, learning_rate=0.1;, score=0.000 total time=  22.5s\n",
      "[CV 4/5; 9/9] START dropout_rate=0.2, learning_rate=0.1.........................\n"
     ]
    },
    {
     "name": "stderr",
     "output_type": "stream",
     "text": [
      "WARNING:absl:`lr` is deprecated in Keras optimizer, please use `learning_rate` or use the legacy optimizer, e.g.,tf.keras.optimizers.legacy.Adam.\n"
     ]
    },
    {
     "name": "stdout",
     "output_type": "stream",
     "text": [
      "[CV 4/5; 9/9] END dropout_rate=0.2, learning_rate=0.1;, score=0.000 total time=  22.5s\n",
      "[CV 5/5; 9/9] START dropout_rate=0.2, learning_rate=0.1.........................\n"
     ]
    },
    {
     "name": "stderr",
     "output_type": "stream",
     "text": [
      "WARNING:absl:`lr` is deprecated in Keras optimizer, please use `learning_rate` or use the legacy optimizer, e.g.,tf.keras.optimizers.legacy.Adam.\n"
     ]
    },
    {
     "name": "stdout",
     "output_type": "stream",
     "text": [
      "[CV 5/5; 9/9] END dropout_rate=0.2, learning_rate=0.1;, score=0.000 total time=  22.5s\n"
     ]
    }
   ],
   "source": [
    "# Create the model\n",
    "\n",
    "model = KerasClassifier(build_fn = create_model,verbose = 0,batch_size = 10,epochs = 10)\n",
    "\n",
    "# Define the grid search parameters\n",
    "\n",
    "learning_rate = [0.001,0.01,0.1]\n",
    "dropout_rate = [0.0,0.1,0.2]\n",
    "\n",
    "# Make a dictionary of the grid search parameters\n",
    "\n",
    "param_grids = dict(learning_rate = learning_rate,dropout_rate = dropout_rate)\n",
    "\n",
    "# Build and fit the GridSearchCV\n",
    "\n",
    "grid = GridSearchCV(estimator = model,param_grid = param_grids,cv = KFold(),verbose = 10)\n",
    "grid_result = grid.fit(X,y)"
   ]
  },
  {
   "cell_type": "code",
   "execution_count": 26,
   "id": "14b9dc01",
   "metadata": {},
   "outputs": [
    {
     "name": "stdout",
     "output_type": "stream",
     "text": [
      "Best : 0.0, using {'dropout_rate': 0.0, 'learning_rate': 0.001}\n",
      "0.0,0.0 with: {'dropout_rate': 0.0, 'learning_rate': 0.001}\n",
      "0.0,0.0 with: {'dropout_rate': 0.0, 'learning_rate': 0.01}\n",
      "0.0,0.0 with: {'dropout_rate': 0.0, 'learning_rate': 0.1}\n",
      "0.0,0.0 with: {'dropout_rate': 0.1, 'learning_rate': 0.001}\n",
      "0.0,0.0 with: {'dropout_rate': 0.1, 'learning_rate': 0.01}\n",
      "0.0,0.0 with: {'dropout_rate': 0.1, 'learning_rate': 0.1}\n",
      "0.0,0.0 with: {'dropout_rate': 0.2, 'learning_rate': 0.001}\n",
      "0.0,0.0 with: {'dropout_rate': 0.2, 'learning_rate': 0.01}\n",
      "0.0,0.0 with: {'dropout_rate': 0.2, 'learning_rate': 0.1}\n"
     ]
    }
   ],
   "source": [
    "# Summarize the results\n",
    "print('Best : {}, using {}'.format(grid_result.best_score_,grid_result.best_params_))\n",
    "means = grid_result.cv_results_['mean_test_score']\n",
    "stds = grid_result.cv_results_['std_test_score']\n",
    "params = grid_result.cv_results_['params']\n",
    "for mean, stdev, param in zip(means, stds, params):\n",
    "    print('{},{} with: {}'.format(mean, stdev, param))"
   ]
  },
  {
   "cell_type": "code",
   "execution_count": 27,
   "id": "a6f6cf41",
   "metadata": {},
   "outputs": [],
   "source": [
    "def create_model(neuron1,neuron2):#to determine the no for hidden layers neuron\n",
    "    model = Sequential()\n",
    "    model.add(Dense(neuron1,input_dim = n_features,kernel_initializer = 'uniform',activation = 'tanh'))\n",
    "    model.add(Dense(neuron2,input_dim = neuron1,kernel_initializer = 'uniform',activation = 'tanh'))\n",
    "    model.add(Dense(1,activation = 'sigmoid'))\n",
    "    \n",
    "    optmizer =RMSprop(0.001)#here,Learning_rate is 0.03\n",
    "    model.compile(loss='binary_crossentropy', optimizer=optmizer, metrics=['accuracy'])\n",
    "    return model"
   ]
  },
  {
   "cell_type": "code",
   "execution_count": 28,
   "id": "22cd93f9",
   "metadata": {},
   "outputs": [
    {
     "name": "stderr",
     "output_type": "stream",
     "text": [
      "C:\\Users\\vinod kumar N\\AppData\\Local\\Temp\\ipykernel_18312\\553030313.py:3: DeprecationWarning: KerasClassifier is deprecated, use Sci-Keras (https://github.com/adriangb/scikeras) instead. See https://www.adriangb.com/scikeras/stable/migration.html for help migrating.\n",
      "  model = KerasClassifier(build_fn = create_model,verbose = 0,batch_size = 10,epochs = 10)\n"
     ]
    },
    {
     "name": "stdout",
     "output_type": "stream",
     "text": [
      "Fitting 5 folds for each of 56 candidates, totalling 280 fits\n",
      "[CV 1/5; 1/56] START neuron1=4, neuron2=2.......................................\n",
      "[CV 1/5; 1/56] END ........neuron1=4, neuron2=2;, score=0.000 total time=  20.3s\n",
      "[CV 2/5; 1/56] START neuron1=4, neuron2=2.......................................\n",
      "[CV 2/5; 1/56] END ........neuron1=4, neuron2=2;, score=0.000 total time=  21.0s\n",
      "[CV 3/5; 1/56] START neuron1=4, neuron2=2.......................................\n",
      "[CV 3/5; 1/56] END ........neuron1=4, neuron2=2;, score=0.000 total time=  18.9s\n",
      "[CV 4/5; 1/56] START neuron1=4, neuron2=2.......................................\n",
      "[CV 4/5; 1/56] END ........neuron1=4, neuron2=2;, score=0.000 total time=  18.7s\n",
      "[CV 5/5; 1/56] START neuron1=4, neuron2=2.......................................\n",
      "[CV 5/5; 1/56] END ........neuron1=4, neuron2=2;, score=0.000 total time=  18.8s\n",
      "[CV 1/5; 2/56] START neuron1=4, neuron2=4.......................................\n",
      "[CV 1/5; 2/56] END ........neuron1=4, neuron2=4;, score=0.000 total time=  18.7s\n",
      "[CV 2/5; 2/56] START neuron1=4, neuron2=4.......................................\n",
      "[CV 2/5; 2/56] END ........neuron1=4, neuron2=4;, score=0.000 total time=  18.9s\n",
      "[CV 3/5; 2/56] START neuron1=4, neuron2=4.......................................\n",
      "[CV 3/5; 2/56] END ........neuron1=4, neuron2=4;, score=0.000 total time=  16.9s\n",
      "[CV 4/5; 2/56] START neuron1=4, neuron2=4.......................................\n",
      "[CV 4/5; 2/56] END ........neuron1=4, neuron2=4;, score=0.000 total time=  16.2s\n",
      "[CV 5/5; 2/56] START neuron1=4, neuron2=4.......................................\n",
      "[CV 5/5; 2/56] END ........neuron1=4, neuron2=4;, score=0.000 total time=  16.4s\n",
      "[CV 1/5; 3/56] START neuron1=4, neuron2=8.......................................\n",
      "[CV 1/5; 3/56] END ........neuron1=4, neuron2=8;, score=0.000 total time=  16.0s\n",
      "[CV 2/5; 3/56] START neuron1=4, neuron2=8.......................................\n",
      "[CV 2/5; 3/56] END ........neuron1=4, neuron2=8;, score=0.000 total time=  16.2s\n",
      "[CV 3/5; 3/56] START neuron1=4, neuron2=8.......................................\n",
      "[CV 3/5; 3/56] END ........neuron1=4, neuron2=8;, score=0.000 total time=  16.2s\n",
      "[CV 4/5; 3/56] START neuron1=4, neuron2=8.......................................\n",
      "[CV 4/5; 3/56] END ........neuron1=4, neuron2=8;, score=0.000 total time=  16.2s\n",
      "[CV 5/5; 3/56] START neuron1=4, neuron2=8.......................................\n",
      "[CV 5/5; 3/56] END ........neuron1=4, neuron2=8;, score=0.000 total time=  17.8s\n",
      "[CV 1/5; 4/56] START neuron1=4, neuron2=20......................................\n",
      "[CV 1/5; 4/56] END .......neuron1=4, neuron2=20;, score=0.000 total time=  17.4s\n",
      "[CV 2/5; 4/56] START neuron1=4, neuron2=20......................................\n",
      "[CV 2/5; 4/56] END .......neuron1=4, neuron2=20;, score=0.000 total time=  17.3s\n",
      "[CV 3/5; 4/56] START neuron1=4, neuron2=20......................................\n",
      "[CV 3/5; 4/56] END .......neuron1=4, neuron2=20;, score=0.000 total time=  17.5s\n",
      "[CV 4/5; 4/56] START neuron1=4, neuron2=20......................................\n",
      "[CV 4/5; 4/56] END .......neuron1=4, neuron2=20;, score=0.000 total time=  17.3s\n",
      "[CV 5/5; 4/56] START neuron1=4, neuron2=20......................................\n",
      "[CV 5/5; 4/56] END .......neuron1=4, neuron2=20;, score=0.000 total time=  17.7s\n",
      "[CV 1/5; 5/56] START neuron1=4, neuron2=30......................................\n",
      "[CV 1/5; 5/56] END .......neuron1=4, neuron2=30;, score=0.000 total time=  18.2s\n",
      "[CV 2/5; 5/56] START neuron1=4, neuron2=30......................................\n",
      "[CV 2/5; 5/56] END .......neuron1=4, neuron2=30;, score=0.000 total time=  17.5s\n",
      "[CV 3/5; 5/56] START neuron1=4, neuron2=30......................................\n",
      "[CV 3/5; 5/56] END .......neuron1=4, neuron2=30;, score=0.000 total time=  17.3s\n",
      "[CV 4/5; 5/56] START neuron1=4, neuron2=30......................................\n",
      "[CV 4/5; 5/56] END .......neuron1=4, neuron2=30;, score=0.000 total time=  17.9s\n",
      "[CV 5/5; 5/56] START neuron1=4, neuron2=30......................................\n",
      "[CV 5/5; 5/56] END .......neuron1=4, neuron2=30;, score=0.000 total time=  17.4s\n",
      "[CV 1/5; 6/56] START neuron1=4, neuron2=40......................................\n",
      "[CV 1/5; 6/56] END .......neuron1=4, neuron2=40;, score=0.000 total time=  17.3s\n",
      "[CV 2/5; 6/56] START neuron1=4, neuron2=40......................................\n",
      "[CV 2/5; 6/56] END .......neuron1=4, neuron2=40;, score=0.000 total time=  17.4s\n",
      "[CV 3/5; 6/56] START neuron1=4, neuron2=40......................................\n",
      "[CV 3/5; 6/56] END .......neuron1=4, neuron2=40;, score=0.000 total time=  17.5s\n",
      "[CV 4/5; 6/56] START neuron1=4, neuron2=40......................................\n",
      "[CV 4/5; 6/56] END .......neuron1=4, neuron2=40;, score=0.000 total time=  18.3s\n",
      "[CV 5/5; 6/56] START neuron1=4, neuron2=40......................................\n",
      "[CV 5/5; 6/56] END .......neuron1=4, neuron2=40;, score=0.000 total time=  18.9s\n",
      "[CV 1/5; 7/56] START neuron1=4, neuron2=50......................................\n",
      "[CV 1/5; 7/56] END .......neuron1=4, neuron2=50;, score=0.000 total time=  18.5s\n",
      "[CV 2/5; 7/56] START neuron1=4, neuron2=50......................................\n",
      "[CV 2/5; 7/56] END .......neuron1=4, neuron2=50;, score=0.000 total time=  19.8s\n",
      "[CV 3/5; 7/56] START neuron1=4, neuron2=50......................................\n",
      "[CV 3/5; 7/56] END .......neuron1=4, neuron2=50;, score=0.000 total time=  21.0s\n",
      "[CV 4/5; 7/56] START neuron1=4, neuron2=50......................................\n",
      "[CV 4/5; 7/56] END .......neuron1=4, neuron2=50;, score=0.000 total time=  21.5s\n",
      "[CV 5/5; 7/56] START neuron1=4, neuron2=50......................................\n",
      "[CV 5/5; 7/56] END .......neuron1=4, neuron2=50;, score=0.000 total time=  21.9s\n",
      "[CV 1/5; 8/56] START neuron1=4, neuron2=60......................................\n",
      "[CV 1/5; 8/56] END .......neuron1=4, neuron2=60;, score=0.000 total time=  21.9s\n",
      "[CV 2/5; 8/56] START neuron1=4, neuron2=60......................................\n",
      "[CV 2/5; 8/56] END .......neuron1=4, neuron2=60;, score=0.000 total time=  21.2s\n",
      "[CV 3/5; 8/56] START neuron1=4, neuron2=60......................................\n",
      "[CV 3/5; 8/56] END .......neuron1=4, neuron2=60;, score=0.000 total time=  23.8s\n",
      "[CV 4/5; 8/56] START neuron1=4, neuron2=60......................................\n",
      "[CV 4/5; 8/56] END .......neuron1=4, neuron2=60;, score=0.000 total time=  22.0s\n",
      "[CV 5/5; 8/56] START neuron1=4, neuron2=60......................................\n",
      "[CV 5/5; 8/56] END .......neuron1=4, neuron2=60;, score=0.000 total time=  24.3s\n",
      "[CV 1/5; 9/56] START neuron1=8, neuron2=2.......................................\n",
      "[CV 1/5; 9/56] END ........neuron1=8, neuron2=2;, score=0.000 total time=  24.2s\n",
      "[CV 2/5; 9/56] START neuron1=8, neuron2=2.......................................\n",
      "[CV 2/5; 9/56] END ........neuron1=8, neuron2=2;, score=0.000 total time=  23.3s\n",
      "[CV 3/5; 9/56] START neuron1=8, neuron2=2.......................................\n",
      "[CV 3/5; 9/56] END ........neuron1=8, neuron2=2;, score=0.000 total time=  24.6s\n",
      "[CV 4/5; 9/56] START neuron1=8, neuron2=2.......................................\n",
      "[CV 4/5; 9/56] END ........neuron1=8, neuron2=2;, score=0.000 total time=  24.2s\n",
      "[CV 5/5; 9/56] START neuron1=8, neuron2=2.......................................\n",
      "[CV 5/5; 9/56] END ........neuron1=8, neuron2=2;, score=0.000 total time=  20.7s\n",
      "[CV 1/5; 10/56] START neuron1=8, neuron2=4......................................\n",
      "[CV 1/5; 10/56] END .......neuron1=8, neuron2=4;, score=0.000 total time=  18.4s\n",
      "[CV 2/5; 10/56] START neuron1=8, neuron2=4......................................\n",
      "[CV 2/5; 10/56] END .......neuron1=8, neuron2=4;, score=0.000 total time=  18.4s\n",
      "[CV 3/5; 10/56] START neuron1=8, neuron2=4......................................\n",
      "[CV 3/5; 10/56] END .......neuron1=8, neuron2=4;, score=0.000 total time=  18.1s\n",
      "[CV 4/5; 10/56] START neuron1=8, neuron2=4......................................\n",
      "[CV 4/5; 10/56] END .......neuron1=8, neuron2=4;, score=0.000 total time=  18.3s\n",
      "[CV 5/5; 10/56] START neuron1=8, neuron2=4......................................\n",
      "[CV 5/5; 10/56] END .......neuron1=8, neuron2=4;, score=0.000 total time=  18.5s\n",
      "[CV 1/5; 11/56] START neuron1=8, neuron2=8......................................\n"
     ]
    },
    {
     "name": "stdout",
     "output_type": "stream",
     "text": [
      "[CV 1/5; 11/56] END .......neuron1=8, neuron2=8;, score=0.000 total time=  18.1s\n",
      "[CV 2/5; 11/56] START neuron1=8, neuron2=8......................................\n",
      "[CV 2/5; 11/56] END .......neuron1=8, neuron2=8;, score=0.000 total time=  19.2s\n",
      "[CV 3/5; 11/56] START neuron1=8, neuron2=8......................................\n",
      "[CV 3/5; 11/56] END .......neuron1=8, neuron2=8;, score=0.000 total time=  19.1s\n",
      "[CV 4/5; 11/56] START neuron1=8, neuron2=8......................................\n",
      "[CV 4/5; 11/56] END .......neuron1=8, neuron2=8;, score=0.000 total time=  17.6s\n",
      "[CV 5/5; 11/56] START neuron1=8, neuron2=8......................................\n",
      "[CV 5/5; 11/56] END .......neuron1=8, neuron2=8;, score=0.000 total time=  18.0s\n",
      "[CV 1/5; 12/56] START neuron1=8, neuron2=20.....................................\n",
      "[CV 1/5; 12/56] END ......neuron1=8, neuron2=20;, score=0.000 total time=  16.8s\n",
      "[CV 2/5; 12/56] START neuron1=8, neuron2=20.....................................\n",
      "[CV 2/5; 12/56] END ......neuron1=8, neuron2=20;, score=0.000 total time=  18.0s\n",
      "[CV 3/5; 12/56] START neuron1=8, neuron2=20.....................................\n",
      "[CV 3/5; 12/56] END ......neuron1=8, neuron2=20;, score=0.000 total time=  16.7s\n",
      "[CV 4/5; 12/56] START neuron1=8, neuron2=20.....................................\n",
      "[CV 4/5; 12/56] END ......neuron1=8, neuron2=20;, score=0.000 total time=  16.9s\n",
      "[CV 5/5; 12/56] START neuron1=8, neuron2=20.....................................\n",
      "[CV 5/5; 12/56] END ......neuron1=8, neuron2=20;, score=0.000 total time=  17.1s\n",
      "[CV 1/5; 13/56] START neuron1=8, neuron2=30.....................................\n",
      "[CV 1/5; 13/56] END ......neuron1=8, neuron2=30;, score=0.000 total time=  17.8s\n",
      "[CV 2/5; 13/56] START neuron1=8, neuron2=30.....................................\n",
      "[CV 2/5; 13/56] END ......neuron1=8, neuron2=30;, score=0.000 total time=  17.6s\n",
      "[CV 3/5; 13/56] START neuron1=8, neuron2=30.....................................\n",
      "[CV 3/5; 13/56] END ......neuron1=8, neuron2=30;, score=0.000 total time=  17.5s\n",
      "[CV 4/5; 13/56] START neuron1=8, neuron2=30.....................................\n",
      "[CV 4/5; 13/56] END ......neuron1=8, neuron2=30;, score=0.000 total time=  17.5s\n",
      "[CV 5/5; 13/56] START neuron1=8, neuron2=30.....................................\n",
      "[CV 5/5; 13/56] END ......neuron1=8, neuron2=30;, score=0.000 total time=  17.5s\n",
      "[CV 1/5; 14/56] START neuron1=8, neuron2=40.....................................\n",
      "[CV 1/5; 14/56] END ......neuron1=8, neuron2=40;, score=0.000 total time=  17.9s\n",
      "[CV 2/5; 14/56] START neuron1=8, neuron2=40.....................................\n",
      "[CV 2/5; 14/56] END ......neuron1=8, neuron2=40;, score=0.000 total time=  17.7s\n",
      "[CV 3/5; 14/56] START neuron1=8, neuron2=40.....................................\n",
      "[CV 3/5; 14/56] END ......neuron1=8, neuron2=40;, score=0.000 total time=  17.4s\n",
      "[CV 4/5; 14/56] START neuron1=8, neuron2=40.....................................\n",
      "[CV 4/5; 14/56] END ......neuron1=8, neuron2=40;, score=0.000 total time=  17.9s\n",
      "[CV 5/5; 14/56] START neuron1=8, neuron2=40.....................................\n",
      "[CV 5/5; 14/56] END ......neuron1=8, neuron2=40;, score=0.000 total time=  17.6s\n",
      "[CV 1/5; 15/56] START neuron1=8, neuron2=50.....................................\n",
      "[CV 1/5; 15/56] END ......neuron1=8, neuron2=50;, score=0.000 total time=  18.8s\n",
      "[CV 2/5; 15/56] START neuron1=8, neuron2=50.....................................\n",
      "[CV 2/5; 15/56] END ......neuron1=8, neuron2=50;, score=0.000 total time=  17.6s\n",
      "[CV 3/5; 15/56] START neuron1=8, neuron2=50.....................................\n",
      "[CV 3/5; 15/56] END ......neuron1=8, neuron2=50;, score=0.000 total time=  17.5s\n",
      "[CV 4/5; 15/56] START neuron1=8, neuron2=50.....................................\n",
      "[CV 4/5; 15/56] END ......neuron1=8, neuron2=50;, score=0.000 total time=  17.7s\n",
      "[CV 5/5; 15/56] START neuron1=8, neuron2=50.....................................\n",
      "[CV 5/5; 15/56] END ......neuron1=8, neuron2=50;, score=0.000 total time=  17.3s\n",
      "[CV 1/5; 16/56] START neuron1=8, neuron2=60.....................................\n",
      "[CV 1/5; 16/56] END ......neuron1=8, neuron2=60;, score=0.000 total time=  17.2s\n",
      "[CV 2/5; 16/56] START neuron1=8, neuron2=60.....................................\n",
      "[CV 2/5; 16/56] END ......neuron1=8, neuron2=60;, score=0.000 total time=  18.9s\n",
      "[CV 3/5; 16/56] START neuron1=8, neuron2=60.....................................\n",
      "[CV 3/5; 16/56] END ......neuron1=8, neuron2=60;, score=0.000 total time=  18.6s\n",
      "[CV 4/5; 16/56] START neuron1=8, neuron2=60.....................................\n",
      "[CV 4/5; 16/56] END ......neuron1=8, neuron2=60;, score=0.000 total time=  18.7s\n",
      "[CV 5/5; 16/56] START neuron1=8, neuron2=60.....................................\n",
      "[CV 5/5; 16/56] END ......neuron1=8, neuron2=60;, score=0.000 total time=  19.1s\n",
      "[CV 1/5; 17/56] START neuron1=16, neuron2=2.....................................\n",
      "[CV 1/5; 17/56] END ......neuron1=16, neuron2=2;, score=0.000 total time=  19.5s\n",
      "[CV 2/5; 17/56] START neuron1=16, neuron2=2.....................................\n",
      "[CV 2/5; 17/56] END ......neuron1=16, neuron2=2;, score=0.000 total time=  18.6s\n",
      "[CV 3/5; 17/56] START neuron1=16, neuron2=2.....................................\n",
      "[CV 3/5; 17/56] END ......neuron1=16, neuron2=2;, score=0.000 total time=  18.6s\n",
      "[CV 4/5; 17/56] START neuron1=16, neuron2=2.....................................\n",
      "[CV 4/5; 17/56] END ......neuron1=16, neuron2=2;, score=0.000 total time=  18.6s\n",
      "[CV 5/5; 17/56] START neuron1=16, neuron2=2.....................................\n",
      "[CV 5/5; 17/56] END ......neuron1=16, neuron2=2;, score=0.000 total time=  18.8s\n",
      "[CV 1/5; 18/56] START neuron1=16, neuron2=4.....................................\n",
      "[CV 1/5; 18/56] END ......neuron1=16, neuron2=4;, score=0.000 total time=  18.4s\n",
      "[CV 2/5; 18/56] START neuron1=16, neuron2=4.....................................\n",
      "[CV 2/5; 18/56] END ......neuron1=16, neuron2=4;, score=0.000 total time=  18.8s\n",
      "[CV 3/5; 18/56] START neuron1=16, neuron2=4.....................................\n",
      "[CV 3/5; 18/56] END ......neuron1=16, neuron2=4;, score=0.000 total time=  18.6s\n",
      "[CV 4/5; 18/56] START neuron1=16, neuron2=4.....................................\n",
      "[CV 4/5; 18/56] END ......neuron1=16, neuron2=4;, score=0.000 total time=  18.5s\n",
      "[CV 5/5; 18/56] START neuron1=16, neuron2=4.....................................\n",
      "[CV 5/5; 18/56] END ......neuron1=16, neuron2=4;, score=0.000 total time=  18.7s\n",
      "[CV 1/5; 19/56] START neuron1=16, neuron2=8.....................................\n",
      "[CV 1/5; 19/56] END ......neuron1=16, neuron2=8;, score=0.000 total time=  18.6s\n",
      "[CV 2/5; 19/56] START neuron1=16, neuron2=8.....................................\n",
      "[CV 2/5; 19/56] END ......neuron1=16, neuron2=8;, score=0.000 total time=  18.3s\n",
      "[CV 3/5; 19/56] START neuron1=16, neuron2=8.....................................\n",
      "[CV 3/5; 19/56] END ......neuron1=16, neuron2=8;, score=0.000 total time=  18.4s\n",
      "[CV 4/5; 19/56] START neuron1=16, neuron2=8.....................................\n",
      "[CV 4/5; 19/56] END ......neuron1=16, neuron2=8;, score=0.000 total time=  19.3s\n",
      "[CV 5/5; 19/56] START neuron1=16, neuron2=8.....................................\n",
      "[CV 5/5; 19/56] END ......neuron1=16, neuron2=8;, score=0.000 total time=  18.6s\n",
      "[CV 1/5; 20/56] START neuron1=16, neuron2=20....................................\n",
      "[CV 1/5; 20/56] END .....neuron1=16, neuron2=20;, score=0.000 total time=  18.8s\n",
      "[CV 2/5; 20/56] START neuron1=16, neuron2=20....................................\n",
      "[CV 2/5; 20/56] END .....neuron1=16, neuron2=20;, score=0.000 total time=  29.9s\n",
      "[CV 3/5; 20/56] START neuron1=16, neuron2=20....................................\n",
      "[CV 3/5; 20/56] END .....neuron1=16, neuron2=20;, score=0.000 total time=  34.1s\n",
      "[CV 4/5; 20/56] START neuron1=16, neuron2=20....................................\n",
      "[CV 4/5; 20/56] END .....neuron1=16, neuron2=20;, score=0.000 total time=  33.3s\n",
      "[CV 5/5; 20/56] START neuron1=16, neuron2=20....................................\n",
      "[CV 5/5; 20/56] END .....neuron1=16, neuron2=20;, score=0.000 total time=  35.7s\n",
      "[CV 1/5; 21/56] START neuron1=16, neuron2=30....................................\n",
      "[CV 1/5; 21/56] END .....neuron1=16, neuron2=30;, score=0.000 total time=  35.7s\n",
      "[CV 2/5; 21/56] START neuron1=16, neuron2=30....................................\n"
     ]
    },
    {
     "name": "stdout",
     "output_type": "stream",
     "text": [
      "[CV 2/5; 21/56] END .....neuron1=16, neuron2=30;, score=0.000 total time=  35.3s\n",
      "[CV 3/5; 21/56] START neuron1=16, neuron2=30....................................\n",
      "[CV 3/5; 21/56] END .....neuron1=16, neuron2=30;, score=0.000 total time=  37.4s\n",
      "[CV 4/5; 21/56] START neuron1=16, neuron2=30....................................\n",
      "[CV 4/5; 21/56] END .....neuron1=16, neuron2=30;, score=0.000 total time=  35.6s\n",
      "[CV 5/5; 21/56] START neuron1=16, neuron2=30....................................\n",
      "[CV 5/5; 21/56] END .....neuron1=16, neuron2=30;, score=0.000 total time=  36.7s\n",
      "[CV 1/5; 22/56] START neuron1=16, neuron2=40....................................\n",
      "[CV 1/5; 22/56] END .....neuron1=16, neuron2=40;, score=0.000 total time=  35.4s\n",
      "[CV 2/5; 22/56] START neuron1=16, neuron2=40....................................\n",
      "[CV 2/5; 22/56] END .....neuron1=16, neuron2=40;, score=0.000 total time=  36.7s\n",
      "[CV 3/5; 22/56] START neuron1=16, neuron2=40....................................\n",
      "[CV 3/5; 22/56] END .....neuron1=16, neuron2=40;, score=0.000 total time=  35.9s\n",
      "[CV 4/5; 22/56] START neuron1=16, neuron2=40....................................\n",
      "[CV 4/5; 22/56] END .....neuron1=16, neuron2=40;, score=0.000 total time=  36.5s\n",
      "[CV 5/5; 22/56] START neuron1=16, neuron2=40....................................\n",
      "[CV 5/5; 22/56] END .....neuron1=16, neuron2=40;, score=0.000 total time=  35.7s\n",
      "[CV 1/5; 23/56] START neuron1=16, neuron2=50....................................\n",
      "[CV 1/5; 23/56] END .....neuron1=16, neuron2=50;, score=0.000 total time=  34.4s\n",
      "[CV 2/5; 23/56] START neuron1=16, neuron2=50....................................\n",
      "[CV 2/5; 23/56] END .....neuron1=16, neuron2=50;, score=0.000 total time=  36.5s\n",
      "[CV 3/5; 23/56] START neuron1=16, neuron2=50....................................\n",
      "[CV 3/5; 23/56] END .....neuron1=16, neuron2=50;, score=0.000 total time=  28.6s\n",
      "[CV 4/5; 23/56] START neuron1=16, neuron2=50....................................\n",
      "[CV 4/5; 23/56] END .....neuron1=16, neuron2=50;, score=0.000 total time=  35.9s\n",
      "[CV 5/5; 23/56] START neuron1=16, neuron2=50....................................\n",
      "[CV 5/5; 23/56] END .....neuron1=16, neuron2=50;, score=0.000 total time=  36.8s\n",
      "[CV 1/5; 24/56] START neuron1=16, neuron2=60....................................\n",
      "[CV 1/5; 24/56] END .....neuron1=16, neuron2=60;, score=0.000 total time=  37.9s\n",
      "[CV 2/5; 24/56] START neuron1=16, neuron2=60....................................\n",
      "[CV 2/5; 24/56] END .....neuron1=16, neuron2=60;, score=0.000 total time=  35.7s\n",
      "[CV 3/5; 24/56] START neuron1=16, neuron2=60....................................\n",
      "[CV 3/5; 24/56] END .....neuron1=16, neuron2=60;, score=0.000 total time=  35.7s\n",
      "[CV 4/5; 24/56] START neuron1=16, neuron2=60....................................\n",
      "[CV 4/5; 24/56] END .....neuron1=16, neuron2=60;, score=0.000 total time=  35.9s\n",
      "[CV 5/5; 24/56] START neuron1=16, neuron2=60....................................\n",
      "[CV 5/5; 24/56] END .....neuron1=16, neuron2=60;, score=0.000 total time=  28.5s\n",
      "[CV 1/5; 25/56] START neuron1=20, neuron2=2.....................................\n",
      "[CV 1/5; 25/56] END ......neuron1=20, neuron2=2;, score=0.000 total time=  36.9s\n",
      "[CV 2/5; 25/56] START neuron1=20, neuron2=2.....................................\n",
      "[CV 2/5; 25/56] END ......neuron1=20, neuron2=2;, score=0.000 total time=  37.3s\n",
      "[CV 3/5; 25/56] START neuron1=20, neuron2=2.....................................\n",
      "[CV 3/5; 25/56] END ......neuron1=20, neuron2=2;, score=0.000 total time=  35.3s\n",
      "[CV 4/5; 25/56] START neuron1=20, neuron2=2.....................................\n",
      "[CV 4/5; 25/56] END ......neuron1=20, neuron2=2;, score=0.000 total time=  34.9s\n",
      "[CV 5/5; 25/56] START neuron1=20, neuron2=2.....................................\n",
      "[CV 5/5; 25/56] END ......neuron1=20, neuron2=2;, score=0.000 total time=  35.5s\n",
      "[CV 1/5; 26/56] START neuron1=20, neuron2=4.....................................\n",
      "[CV 1/5; 26/56] END ......neuron1=20, neuron2=4;, score=0.000 total time=  35.6s\n",
      "[CV 2/5; 26/56] START neuron1=20, neuron2=4.....................................\n",
      "[CV 2/5; 26/56] END ......neuron1=20, neuron2=4;, score=0.000 total time=  36.5s\n",
      "[CV 3/5; 26/56] START neuron1=20, neuron2=4.....................................\n",
      "[CV 3/5; 26/56] END ......neuron1=20, neuron2=4;, score=0.000 total time=  38.3s\n",
      "[CV 4/5; 26/56] START neuron1=20, neuron2=4.....................................\n",
      "[CV 4/5; 26/56] END ......neuron1=20, neuron2=4;, score=0.000 total time=  33.5s\n",
      "[CV 5/5; 26/56] START neuron1=20, neuron2=4.....................................\n",
      "[CV 5/5; 26/56] END ......neuron1=20, neuron2=4;, score=0.000 total time=  36.6s\n",
      "[CV 1/5; 27/56] START neuron1=20, neuron2=8.....................................\n",
      "[CV 1/5; 27/56] END ......neuron1=20, neuron2=8;, score=0.000 total time=  37.6s\n",
      "[CV 2/5; 27/56] START neuron1=20, neuron2=8.....................................\n",
      "[CV 2/5; 27/56] END ......neuron1=20, neuron2=8;, score=0.000 total time=  37.1s\n",
      "[CV 3/5; 27/56] START neuron1=20, neuron2=8.....................................\n",
      "[CV 3/5; 27/56] END ......neuron1=20, neuron2=8;, score=0.000 total time=  35.2s\n",
      "[CV 4/5; 27/56] START neuron1=20, neuron2=8.....................................\n",
      "[CV 4/5; 27/56] END ......neuron1=20, neuron2=8;, score=0.000 total time=  36.6s\n",
      "[CV 5/5; 27/56] START neuron1=20, neuron2=8.....................................\n",
      "[CV 5/5; 27/56] END ......neuron1=20, neuron2=8;, score=0.000 total time=  34.0s\n",
      "[CV 1/5; 28/56] START neuron1=20, neuron2=20....................................\n",
      "[CV 1/5; 28/56] END .....neuron1=20, neuron2=20;, score=0.000 total time=  33.2s\n",
      "[CV 2/5; 28/56] START neuron1=20, neuron2=20....................................\n",
      "[CV 2/5; 28/56] END .....neuron1=20, neuron2=20;, score=0.000 total time=  36.0s\n",
      "[CV 3/5; 28/56] START neuron1=20, neuron2=20....................................\n",
      "[CV 3/5; 28/56] END .....neuron1=20, neuron2=20;, score=0.000 total time=  35.4s\n",
      "[CV 4/5; 28/56] START neuron1=20, neuron2=20....................................\n",
      "[CV 4/5; 28/56] END .....neuron1=20, neuron2=20;, score=0.000 total time=  35.5s\n",
      "[CV 5/5; 28/56] START neuron1=20, neuron2=20....................................\n",
      "[CV 5/5; 28/56] END .....neuron1=20, neuron2=20;, score=0.000 total time=  35.9s\n",
      "[CV 1/5; 29/56] START neuron1=20, neuron2=30....................................\n",
      "[CV 1/5; 29/56] END .....neuron1=20, neuron2=30;, score=0.000 total time=  36.1s\n",
      "[CV 2/5; 29/56] START neuron1=20, neuron2=30....................................\n",
      "[CV 2/5; 29/56] END .....neuron1=20, neuron2=30;, score=0.000 total time=  34.3s\n",
      "[CV 3/5; 29/56] START neuron1=20, neuron2=30....................................\n",
      "[CV 3/5; 29/56] END .....neuron1=20, neuron2=30;, score=0.000 total time=  35.8s\n",
      "[CV 4/5; 29/56] START neuron1=20, neuron2=30....................................\n",
      "[CV 4/5; 29/56] END .....neuron1=20, neuron2=30;, score=0.000 total time=  35.9s\n",
      "[CV 5/5; 29/56] START neuron1=20, neuron2=30....................................\n",
      "[CV 5/5; 29/56] END .....neuron1=20, neuron2=30;, score=0.000 total time=  38.4s\n",
      "[CV 1/5; 30/56] START neuron1=20, neuron2=40....................................\n",
      "[CV 1/5; 30/56] END .....neuron1=20, neuron2=40;, score=0.000 total time=  36.1s\n",
      "[CV 2/5; 30/56] START neuron1=20, neuron2=40....................................\n",
      "[CV 2/5; 30/56] END .....neuron1=20, neuron2=40;, score=0.000 total time=  35.6s\n",
      "[CV 3/5; 30/56] START neuron1=20, neuron2=40....................................\n",
      "[CV 3/5; 30/56] END .....neuron1=20, neuron2=40;, score=0.000 total time=  35.9s\n",
      "[CV 4/5; 30/56] START neuron1=20, neuron2=40....................................\n",
      "[CV 4/5; 30/56] END .....neuron1=20, neuron2=40;, score=0.000 total time=  38.2s\n",
      "[CV 5/5; 30/56] START neuron1=20, neuron2=40....................................\n",
      "[CV 5/5; 30/56] END .....neuron1=20, neuron2=40;, score=0.000 total time=  35.7s\n",
      "[CV 1/5; 31/56] START neuron1=20, neuron2=50....................................\n",
      "[CV 1/5; 31/56] END .....neuron1=20, neuron2=50;, score=0.000 total time=  31.4s\n",
      "[CV 2/5; 31/56] START neuron1=20, neuron2=50....................................\n",
      "[CV 2/5; 31/56] END .....neuron1=20, neuron2=50;, score=0.000 total time=  34.6s\n",
      "[CV 3/5; 31/56] START neuron1=20, neuron2=50....................................\n"
     ]
    },
    {
     "name": "stdout",
     "output_type": "stream",
     "text": [
      "[CV 3/5; 31/56] END .....neuron1=20, neuron2=50;, score=0.000 total time=  35.0s\n",
      "[CV 4/5; 31/56] START neuron1=20, neuron2=50....................................\n",
      "[CV 4/5; 31/56] END .....neuron1=20, neuron2=50;, score=0.000 total time=  36.1s\n",
      "[CV 5/5; 31/56] START neuron1=20, neuron2=50....................................\n",
      "[CV 5/5; 31/56] END .....neuron1=20, neuron2=50;, score=0.000 total time=  37.4s\n",
      "[CV 1/5; 32/56] START neuron1=20, neuron2=60....................................\n",
      "[CV 1/5; 32/56] END .....neuron1=20, neuron2=60;, score=0.000 total time=  35.9s\n",
      "[CV 2/5; 32/56] START neuron1=20, neuron2=60....................................\n",
      "[CV 2/5; 32/56] END .....neuron1=20, neuron2=60;, score=0.000 total time=  36.0s\n",
      "[CV 3/5; 32/56] START neuron1=20, neuron2=60....................................\n",
      "[CV 3/5; 32/56] END .....neuron1=20, neuron2=60;, score=0.000 total time=  35.5s\n",
      "[CV 4/5; 32/56] START neuron1=20, neuron2=60....................................\n",
      "[CV 4/5; 32/56] END .....neuron1=20, neuron2=60;, score=0.000 total time=  36.3s\n",
      "[CV 5/5; 32/56] START neuron1=20, neuron2=60....................................\n",
      "[CV 5/5; 32/56] END .....neuron1=20, neuron2=60;, score=0.000 total time=  36.6s\n",
      "[CV 1/5; 33/56] START neuron1=30, neuron2=2.....................................\n",
      "[CV 1/5; 33/56] END ......neuron1=30, neuron2=2;, score=0.000 total time=  34.8s\n",
      "[CV 2/5; 33/56] START neuron1=30, neuron2=2.....................................\n",
      "[CV 2/5; 33/56] END ......neuron1=30, neuron2=2;, score=0.000 total time=  35.8s\n",
      "[CV 3/5; 33/56] START neuron1=30, neuron2=2.....................................\n",
      "[CV 3/5; 33/56] END ......neuron1=30, neuron2=2;, score=0.000 total time=  30.8s\n",
      "[CV 4/5; 33/56] START neuron1=30, neuron2=2.....................................\n",
      "[CV 4/5; 33/56] END ......neuron1=30, neuron2=2;, score=0.000 total time=  35.3s\n",
      "[CV 5/5; 33/56] START neuron1=30, neuron2=2.....................................\n",
      "[CV 5/5; 33/56] END ......neuron1=30, neuron2=2;, score=0.000 total time=  32.9s\n",
      "[CV 1/5; 34/56] START neuron1=30, neuron2=4.....................................\n",
      "[CV 1/5; 34/56] END ......neuron1=30, neuron2=4;, score=0.000 total time=  38.3s\n",
      "[CV 2/5; 34/56] START neuron1=30, neuron2=4.....................................\n",
      "[CV 2/5; 34/56] END ......neuron1=30, neuron2=4;, score=0.000 total time=  40.0s\n",
      "[CV 3/5; 34/56] START neuron1=30, neuron2=4.....................................\n",
      "[CV 3/5; 34/56] END ......neuron1=30, neuron2=4;, score=0.000 total time=  36.2s\n",
      "[CV 4/5; 34/56] START neuron1=30, neuron2=4.....................................\n",
      "[CV 4/5; 34/56] END ......neuron1=30, neuron2=4;, score=0.000 total time=  35.1s\n",
      "[CV 5/5; 34/56] START neuron1=30, neuron2=4.....................................\n",
      "[CV 5/5; 34/56] END ......neuron1=30, neuron2=4;, score=0.000 total time=  35.1s\n",
      "[CV 1/5; 35/56] START neuron1=30, neuron2=8.....................................\n",
      "[CV 1/5; 35/56] END ......neuron1=30, neuron2=8;, score=0.000 total time=  34.9s\n",
      "[CV 2/5; 35/56] START neuron1=30, neuron2=8.....................................\n",
      "[CV 2/5; 35/56] END ......neuron1=30, neuron2=8;, score=0.000 total time=  37.3s\n",
      "[CV 3/5; 35/56] START neuron1=30, neuron2=8.....................................\n",
      "[CV 3/5; 35/56] END ......neuron1=30, neuron2=8;, score=0.000 total time=  39.0s\n",
      "[CV 4/5; 35/56] START neuron1=30, neuron2=8.....................................\n",
      "[CV 4/5; 35/56] END ......neuron1=30, neuron2=8;, score=0.000 total time=  40.1s\n",
      "[CV 5/5; 35/56] START neuron1=30, neuron2=8.....................................\n",
      "[CV 5/5; 35/56] END ......neuron1=30, neuron2=8;, score=0.000 total time=  38.0s\n",
      "[CV 1/5; 36/56] START neuron1=30, neuron2=20....................................\n",
      "[CV 1/5; 36/56] END .....neuron1=30, neuron2=20;, score=0.000 total time=  41.4s\n",
      "[CV 2/5; 36/56] START neuron1=30, neuron2=20....................................\n",
      "[CV 2/5; 36/56] END .....neuron1=30, neuron2=20;, score=0.000 total time=  38.9s\n",
      "[CV 3/5; 36/56] START neuron1=30, neuron2=20....................................\n",
      "[CV 3/5; 36/56] END .....neuron1=30, neuron2=20;, score=0.000 total time=  38.4s\n",
      "[CV 4/5; 36/56] START neuron1=30, neuron2=20....................................\n",
      "[CV 4/5; 36/56] END .....neuron1=30, neuron2=20;, score=0.000 total time=  33.3s\n",
      "[CV 5/5; 36/56] START neuron1=30, neuron2=20....................................\n",
      "[CV 5/5; 36/56] END .....neuron1=30, neuron2=20;, score=0.000 total time=  35.8s\n",
      "[CV 1/5; 37/56] START neuron1=30, neuron2=30....................................\n",
      "[CV 1/5; 37/56] END .....neuron1=30, neuron2=30;, score=0.000 total time=  36.3s\n",
      "[CV 2/5; 37/56] START neuron1=30, neuron2=30....................................\n",
      "[CV 2/5; 37/56] END .....neuron1=30, neuron2=30;, score=0.000 total time=  35.1s\n",
      "[CV 3/5; 37/56] START neuron1=30, neuron2=30....................................\n",
      "[CV 3/5; 37/56] END .....neuron1=30, neuron2=30;, score=0.000 total time=  36.8s\n",
      "[CV 4/5; 37/56] START neuron1=30, neuron2=30....................................\n",
      "[CV 4/5; 37/56] END .....neuron1=30, neuron2=30;, score=0.000 total time=  38.9s\n",
      "[CV 5/5; 37/56] START neuron1=30, neuron2=30....................................\n",
      "[CV 5/5; 37/56] END .....neuron1=30, neuron2=30;, score=0.000 total time=  40.8s\n",
      "[CV 1/5; 38/56] START neuron1=30, neuron2=40....................................\n",
      "[CV 1/5; 38/56] END .....neuron1=30, neuron2=40;, score=0.000 total time=  44.0s\n",
      "[CV 2/5; 38/56] START neuron1=30, neuron2=40....................................\n",
      "[CV 2/5; 38/56] END .....neuron1=30, neuron2=40;, score=0.000 total time=  37.7s\n",
      "[CV 3/5; 38/56] START neuron1=30, neuron2=40....................................\n",
      "[CV 3/5; 38/56] END .....neuron1=30, neuron2=40;, score=0.000 total time=  38.9s\n",
      "[CV 4/5; 38/56] START neuron1=30, neuron2=40....................................\n",
      "[CV 4/5; 38/56] END .....neuron1=30, neuron2=40;, score=0.000 total time=  37.9s\n",
      "[CV 5/5; 38/56] START neuron1=30, neuron2=40....................................\n",
      "[CV 5/5; 38/56] END .....neuron1=30, neuron2=40;, score=0.000 total time=  39.8s\n",
      "[CV 1/5; 39/56] START neuron1=30, neuron2=50....................................\n",
      "[CV 1/5; 39/56] END .....neuron1=30, neuron2=50;, score=0.000 total time=  40.6s\n",
      "[CV 2/5; 39/56] START neuron1=30, neuron2=50....................................\n",
      "[CV 2/5; 39/56] END .....neuron1=30, neuron2=50;, score=0.000 total time=  39.0s\n",
      "[CV 3/5; 39/56] START neuron1=30, neuron2=50....................................\n",
      "[CV 3/5; 39/56] END .....neuron1=30, neuron2=50;, score=0.000 total time=  39.5s\n",
      "[CV 4/5; 39/56] START neuron1=30, neuron2=50....................................\n",
      "[CV 4/5; 39/56] END .....neuron1=30, neuron2=50;, score=0.000 total time=  37.8s\n",
      "[CV 5/5; 39/56] START neuron1=30, neuron2=50....................................\n",
      "[CV 5/5; 39/56] END .....neuron1=30, neuron2=50;, score=0.000 total time=  35.5s\n",
      "[CV 1/5; 40/56] START neuron1=30, neuron2=60....................................\n",
      "[CV 1/5; 40/56] END .....neuron1=30, neuron2=60;, score=0.000 total time=  36.4s\n",
      "[CV 2/5; 40/56] START neuron1=30, neuron2=60....................................\n",
      "[CV 2/5; 40/56] END .....neuron1=30, neuron2=60;, score=0.000 total time=  39.6s\n",
      "[CV 3/5; 40/56] START neuron1=30, neuron2=60....................................\n",
      "[CV 3/5; 40/56] END .....neuron1=30, neuron2=60;, score=0.000 total time=  42.0s\n",
      "[CV 4/5; 40/56] START neuron1=30, neuron2=60....................................\n",
      "[CV 4/5; 40/56] END .....neuron1=30, neuron2=60;, score=0.000 total time=  38.2s\n",
      "[CV 5/5; 40/56] START neuron1=30, neuron2=60....................................\n",
      "[CV 5/5; 40/56] END .....neuron1=30, neuron2=60;, score=0.000 total time=  38.4s\n",
      "[CV 1/5; 41/56] START neuron1=40, neuron2=2.....................................\n",
      "[CV 1/5; 41/56] END ......neuron1=40, neuron2=2;, score=0.000 total time=  37.4s\n",
      "[CV 2/5; 41/56] START neuron1=40, neuron2=2.....................................\n",
      "[CV 2/5; 41/56] END ......neuron1=40, neuron2=2;, score=0.000 total time=  38.1s\n",
      "[CV 3/5; 41/56] START neuron1=40, neuron2=2.....................................\n",
      "[CV 3/5; 41/56] END ......neuron1=40, neuron2=2;, score=0.000 total time=  37.5s\n",
      "[CV 4/5; 41/56] START neuron1=40, neuron2=2.....................................\n"
     ]
    },
    {
     "name": "stdout",
     "output_type": "stream",
     "text": [
      "[CV 4/5; 41/56] END ......neuron1=40, neuron2=2;, score=0.000 total time=  38.0s\n",
      "[CV 5/5; 41/56] START neuron1=40, neuron2=2.....................................\n",
      "[CV 5/5; 41/56] END ......neuron1=40, neuron2=2;, score=0.000 total time=  38.6s\n",
      "[CV 1/5; 42/56] START neuron1=40, neuron2=4.....................................\n",
      "[CV 1/5; 42/56] END ......neuron1=40, neuron2=4;, score=0.000 total time=  39.0s\n",
      "[CV 2/5; 42/56] START neuron1=40, neuron2=4.....................................\n",
      "[CV 2/5; 42/56] END ......neuron1=40, neuron2=4;, score=0.000 total time=  39.1s\n",
      "[CV 3/5; 42/56] START neuron1=40, neuron2=4.....................................\n",
      "[CV 3/5; 42/56] END ......neuron1=40, neuron2=4;, score=0.000 total time=  40.4s\n",
      "[CV 4/5; 42/56] START neuron1=40, neuron2=4.....................................\n",
      "[CV 4/5; 42/56] END ......neuron1=40, neuron2=4;, score=0.000 total time=  40.2s\n",
      "[CV 5/5; 42/56] START neuron1=40, neuron2=4.....................................\n",
      "[CV 5/5; 42/56] END ......neuron1=40, neuron2=4;, score=0.000 total time=  37.7s\n",
      "[CV 1/5; 43/56] START neuron1=40, neuron2=8.....................................\n",
      "[CV 1/5; 43/56] END ......neuron1=40, neuron2=8;, score=0.000 total time=  35.7s\n",
      "[CV 2/5; 43/56] START neuron1=40, neuron2=8.....................................\n",
      "[CV 2/5; 43/56] END ......neuron1=40, neuron2=8;, score=0.000 total time=  34.7s\n",
      "[CV 3/5; 43/56] START neuron1=40, neuron2=8.....................................\n",
      "[CV 3/5; 43/56] END ......neuron1=40, neuron2=8;, score=0.000 total time=  35.0s\n",
      "[CV 4/5; 43/56] START neuron1=40, neuron2=8.....................................\n",
      "[CV 4/5; 43/56] END ......neuron1=40, neuron2=8;, score=0.000 total time=  40.6s\n",
      "[CV 5/5; 43/56] START neuron1=40, neuron2=8.....................................\n",
      "[CV 5/5; 43/56] END ......neuron1=40, neuron2=8;, score=0.000 total time=  39.9s\n",
      "[CV 1/5; 44/56] START neuron1=40, neuron2=20....................................\n",
      "[CV 1/5; 44/56] END .....neuron1=40, neuron2=20;, score=0.000 total time=  37.3s\n",
      "[CV 2/5; 44/56] START neuron1=40, neuron2=20....................................\n",
      "[CV 2/5; 44/56] END .....neuron1=40, neuron2=20;, score=0.000 total time=  36.9s\n",
      "[CV 3/5; 44/56] START neuron1=40, neuron2=20....................................\n",
      "[CV 3/5; 44/56] END .....neuron1=40, neuron2=20;, score=0.000 total time=  37.1s\n",
      "[CV 4/5; 44/56] START neuron1=40, neuron2=20....................................\n",
      "[CV 4/5; 44/56] END .....neuron1=40, neuron2=20;, score=0.000 total time=  38.4s\n",
      "[CV 5/5; 44/56] START neuron1=40, neuron2=20....................................\n",
      "[CV 5/5; 44/56] END .....neuron1=40, neuron2=20;, score=0.000 total time=  38.9s\n",
      "[CV 1/5; 45/56] START neuron1=40, neuron2=30....................................\n",
      "[CV 1/5; 45/56] END .....neuron1=40, neuron2=30;, score=0.000 total time=  39.6s\n",
      "[CV 2/5; 45/56] START neuron1=40, neuron2=30....................................\n",
      "[CV 2/5; 45/56] END .....neuron1=40, neuron2=30;, score=0.000 total time=  38.1s\n",
      "[CV 3/5; 45/56] START neuron1=40, neuron2=30....................................\n",
      "[CV 3/5; 45/56] END .....neuron1=40, neuron2=30;, score=0.000 total time=  39.8s\n",
      "[CV 4/5; 45/56] START neuron1=40, neuron2=30....................................\n",
      "[CV 4/5; 45/56] END .....neuron1=40, neuron2=30;, score=0.000 total time=  39.1s\n",
      "[CV 5/5; 45/56] START neuron1=40, neuron2=30....................................\n",
      "[CV 5/5; 45/56] END .....neuron1=40, neuron2=30;, score=0.000 total time=  38.6s\n",
      "[CV 1/5; 46/56] START neuron1=40, neuron2=40....................................\n",
      "[CV 1/5; 46/56] END .....neuron1=40, neuron2=40;, score=0.000 total time=  33.9s\n",
      "[CV 2/5; 46/56] START neuron1=40, neuron2=40....................................\n",
      "[CV 2/5; 46/56] END .....neuron1=40, neuron2=40;, score=0.000 total time=  38.6s\n",
      "[CV 3/5; 46/56] START neuron1=40, neuron2=40....................................\n",
      "[CV 3/5; 46/56] END .....neuron1=40, neuron2=40;, score=0.000 total time=  36.5s\n",
      "[CV 4/5; 46/56] START neuron1=40, neuron2=40....................................\n",
      "[CV 4/5; 46/56] END .....neuron1=40, neuron2=40;, score=0.000 total time=  37.4s\n",
      "[CV 5/5; 46/56] START neuron1=40, neuron2=40....................................\n",
      "[CV 5/5; 46/56] END .....neuron1=40, neuron2=40;, score=0.000 total time=  38.1s\n",
      "[CV 1/5; 47/56] START neuron1=40, neuron2=50....................................\n",
      "[CV 1/5; 47/56] END .....neuron1=40, neuron2=50;, score=0.000 total time=  36.4s\n",
      "[CV 2/5; 47/56] START neuron1=40, neuron2=50....................................\n",
      "[CV 2/5; 47/56] END .....neuron1=40, neuron2=50;, score=0.000 total time=  37.6s\n",
      "[CV 3/5; 47/56] START neuron1=40, neuron2=50....................................\n",
      "[CV 3/5; 47/56] END .....neuron1=40, neuron2=50;, score=0.000 total time=  34.8s\n",
      "[CV 4/5; 47/56] START neuron1=40, neuron2=50....................................\n",
      "[CV 4/5; 47/56] END .....neuron1=40, neuron2=50;, score=0.000 total time=  38.3s\n",
      "[CV 5/5; 47/56] START neuron1=40, neuron2=50....................................\n",
      "[CV 5/5; 47/56] END .....neuron1=40, neuron2=50;, score=0.000 total time=  34.9s\n",
      "[CV 1/5; 48/56] START neuron1=40, neuron2=60....................................\n",
      "[CV 1/5; 48/56] END .....neuron1=40, neuron2=60;, score=0.000 total time=  37.7s\n",
      "[CV 2/5; 48/56] START neuron1=40, neuron2=60....................................\n",
      "[CV 2/5; 48/56] END .....neuron1=40, neuron2=60;, score=0.000 total time=  41.1s\n",
      "[CV 3/5; 48/56] START neuron1=40, neuron2=60....................................\n",
      "[CV 3/5; 48/56] END .....neuron1=40, neuron2=60;, score=0.000 total time=  36.4s\n",
      "[CV 4/5; 48/56] START neuron1=40, neuron2=60....................................\n",
      "[CV 4/5; 48/56] END .....neuron1=40, neuron2=60;, score=0.000 total time=  35.2s\n",
      "[CV 5/5; 48/56] START neuron1=40, neuron2=60....................................\n",
      "[CV 5/5; 48/56] END .....neuron1=40, neuron2=60;, score=0.000 total time=  35.9s\n",
      "[CV 1/5; 49/56] START neuron1=50, neuron2=2.....................................\n",
      "[CV 1/5; 49/56] END ......neuron1=50, neuron2=2;, score=0.000 total time=  35.1s\n",
      "[CV 2/5; 49/56] START neuron1=50, neuron2=2.....................................\n",
      "[CV 2/5; 49/56] END ......neuron1=50, neuron2=2;, score=0.000 total time=  35.9s\n",
      "[CV 3/5; 49/56] START neuron1=50, neuron2=2.....................................\n",
      "[CV 3/5; 49/56] END ......neuron1=50, neuron2=2;, score=0.000 total time=  33.4s\n",
      "[CV 4/5; 49/56] START neuron1=50, neuron2=2.....................................\n",
      "[CV 4/5; 49/56] END ......neuron1=50, neuron2=2;, score=0.000 total time=  37.9s\n",
      "[CV 5/5; 49/56] START neuron1=50, neuron2=2.....................................\n",
      "[CV 5/5; 49/56] END ......neuron1=50, neuron2=2;, score=0.000 total time=  35.1s\n",
      "[CV 1/5; 50/56] START neuron1=50, neuron2=4.....................................\n",
      "[CV 1/5; 50/56] END ......neuron1=50, neuron2=4;, score=0.000 total time=  36.7s\n",
      "[CV 2/5; 50/56] START neuron1=50, neuron2=4.....................................\n",
      "[CV 2/5; 50/56] END ......neuron1=50, neuron2=4;, score=0.000 total time=  34.9s\n",
      "[CV 3/5; 50/56] START neuron1=50, neuron2=4.....................................\n",
      "[CV 3/5; 50/56] END ......neuron1=50, neuron2=4;, score=0.000 total time=  35.6s\n",
      "[CV 4/5; 50/56] START neuron1=50, neuron2=4.....................................\n",
      "[CV 4/5; 50/56] END ......neuron1=50, neuron2=4;, score=0.000 total time=  35.8s\n",
      "[CV 5/5; 50/56] START neuron1=50, neuron2=4.....................................\n",
      "[CV 5/5; 50/56] END ......neuron1=50, neuron2=4;, score=0.000 total time=  41.2s\n",
      "[CV 1/5; 51/56] START neuron1=50, neuron2=8.....................................\n",
      "[CV 1/5; 51/56] END ......neuron1=50, neuron2=8;, score=0.000 total time=  33.8s\n",
      "[CV 2/5; 51/56] START neuron1=50, neuron2=8.....................................\n",
      "[CV 2/5; 51/56] END ......neuron1=50, neuron2=8;, score=0.000 total time=  36.8s\n",
      "[CV 3/5; 51/56] START neuron1=50, neuron2=8.....................................\n",
      "[CV 3/5; 51/56] END ......neuron1=50, neuron2=8;, score=0.000 total time=  39.2s\n",
      "[CV 4/5; 51/56] START neuron1=50, neuron2=8.....................................\n",
      "[CV 4/5; 51/56] END ......neuron1=50, neuron2=8;, score=0.000 total time=  36.7s\n",
      "[CV 5/5; 51/56] START neuron1=50, neuron2=8.....................................\n"
     ]
    },
    {
     "name": "stdout",
     "output_type": "stream",
     "text": [
      "[CV 5/5; 51/56] END ......neuron1=50, neuron2=8;, score=0.000 total time=  35.9s\n",
      "[CV 1/5; 52/56] START neuron1=50, neuron2=20....................................\n",
      "[CV 1/5; 52/56] END .....neuron1=50, neuron2=20;, score=0.000 total time=  36.1s\n",
      "[CV 2/5; 52/56] START neuron1=50, neuron2=20....................................\n",
      "[CV 2/5; 52/56] END .....neuron1=50, neuron2=20;, score=0.000 total time=  35.6s\n",
      "[CV 3/5; 52/56] START neuron1=50, neuron2=20....................................\n",
      "[CV 3/5; 52/56] END .....neuron1=50, neuron2=20;, score=0.000 total time=  35.2s\n",
      "[CV 4/5; 52/56] START neuron1=50, neuron2=20....................................\n",
      "[CV 4/5; 52/56] END .....neuron1=50, neuron2=20;, score=0.000 total time=  34.0s\n",
      "[CV 5/5; 52/56] START neuron1=50, neuron2=20....................................\n",
      "[CV 5/5; 52/56] END .....neuron1=50, neuron2=20;, score=0.000 total time=  33.8s\n",
      "[CV 1/5; 53/56] START neuron1=50, neuron2=30....................................\n",
      "[CV 1/5; 53/56] END .....neuron1=50, neuron2=30;, score=0.000 total time=  36.5s\n",
      "[CV 2/5; 53/56] START neuron1=50, neuron2=30....................................\n",
      "[CV 2/5; 53/56] END .....neuron1=50, neuron2=30;, score=0.000 total time=  42.0s\n",
      "[CV 3/5; 53/56] START neuron1=50, neuron2=30....................................\n",
      "[CV 3/5; 53/56] END .....neuron1=50, neuron2=30;, score=0.000 total time=  37.4s\n",
      "[CV 4/5; 53/56] START neuron1=50, neuron2=30....................................\n",
      "[CV 4/5; 53/56] END .....neuron1=50, neuron2=30;, score=0.000 total time=  35.8s\n",
      "[CV 5/5; 53/56] START neuron1=50, neuron2=30....................................\n",
      "[CV 5/5; 53/56] END .....neuron1=50, neuron2=30;, score=0.000 total time=  37.0s\n",
      "[CV 1/5; 54/56] START neuron1=50, neuron2=40....................................\n",
      "[CV 1/5; 54/56] END .....neuron1=50, neuron2=40;, score=0.000 total time=  35.4s\n",
      "[CV 2/5; 54/56] START neuron1=50, neuron2=40....................................\n",
      "[CV 2/5; 54/56] END .....neuron1=50, neuron2=40;, score=0.000 total time=  38.0s\n",
      "[CV 3/5; 54/56] START neuron1=50, neuron2=40....................................\n",
      "[CV 3/5; 54/56] END .....neuron1=50, neuron2=40;, score=0.000 total time=  35.8s\n",
      "[CV 4/5; 54/56] START neuron1=50, neuron2=40....................................\n",
      "[CV 4/5; 54/56] END .....neuron1=50, neuron2=40;, score=0.000 total time=  36.8s\n",
      "[CV 5/5; 54/56] START neuron1=50, neuron2=40....................................\n",
      "[CV 5/5; 54/56] END .....neuron1=50, neuron2=40;, score=0.000 total time=  33.9s\n",
      "[CV 1/5; 55/56] START neuron1=50, neuron2=50....................................\n",
      "[CV 1/5; 55/56] END .....neuron1=50, neuron2=50;, score=0.000 total time=  36.1s\n",
      "[CV 2/5; 55/56] START neuron1=50, neuron2=50....................................\n",
      "[CV 2/5; 55/56] END .....neuron1=50, neuron2=50;, score=0.000 total time=  37.6s\n",
      "[CV 3/5; 55/56] START neuron1=50, neuron2=50....................................\n",
      "[CV 3/5; 55/56] END .....neuron1=50, neuron2=50;, score=0.000 total time=  37.3s\n",
      "[CV 4/5; 55/56] START neuron1=50, neuron2=50....................................\n",
      "[CV 4/5; 55/56] END .....neuron1=50, neuron2=50;, score=0.000 total time=  36.3s\n",
      "[CV 5/5; 55/56] START neuron1=50, neuron2=50....................................\n",
      "[CV 5/5; 55/56] END .....neuron1=50, neuron2=50;, score=0.000 total time=  36.7s\n",
      "[CV 1/5; 56/56] START neuron1=50, neuron2=60....................................\n",
      "[CV 1/5; 56/56] END .....neuron1=50, neuron2=60;, score=0.000 total time=  36.3s\n",
      "[CV 2/5; 56/56] START neuron1=50, neuron2=60....................................\n",
      "[CV 2/5; 56/56] END .....neuron1=50, neuron2=60;, score=0.000 total time=  35.6s\n",
      "[CV 3/5; 56/56] START neuron1=50, neuron2=60....................................\n",
      "[CV 3/5; 56/56] END .....neuron1=50, neuron2=60;, score=0.000 total time=  36.8s\n",
      "[CV 4/5; 56/56] START neuron1=50, neuron2=60....................................\n",
      "[CV 4/5; 56/56] END .....neuron1=50, neuron2=60;, score=0.000 total time=  34.9s\n",
      "[CV 5/5; 56/56] START neuron1=50, neuron2=60....................................\n",
      "[CV 5/5; 56/56] END .....neuron1=50, neuron2=60;, score=0.000 total time=  35.1s\n"
     ]
    }
   ],
   "source": [
    "# Create the model\n",
    "\n",
    "model = KerasClassifier(build_fn = create_model,verbose = 0,batch_size = 10,epochs = 10)\n",
    "\n",
    "# Define the grid search parameters\n",
    "\n",
    "neuron1 = [4,8,16,20,30,40,50]\n",
    "neuron2 = [2,4,8,20,30,40,50,60]\n",
    "\n",
    "# Make a dictionary of the grid search parameters\n",
    "\n",
    "param_grids = dict(neuron1 = neuron1,neuron2 = neuron2)\n",
    "\n",
    "# Build and fit the GridSearchCV\n",
    "\n",
    "grid = GridSearchCV(estimator = model,param_grid = param_grids,cv = KFold(),verbose = 10)\n",
    "grid_result = grid.fit(X,y)"
   ]
  },
  {
   "cell_type": "code",
   "execution_count": 29,
   "id": "d5d28061",
   "metadata": {},
   "outputs": [
    {
     "name": "stdout",
     "output_type": "stream",
     "text": [
      "Best : 0.0, using {'neuron1': 4, 'neuron2': 2}\n",
      "0.0,0.0 with: {'neuron1': 4, 'neuron2': 2}\n",
      "0.0,0.0 with: {'neuron1': 4, 'neuron2': 4}\n",
      "0.0,0.0 with: {'neuron1': 4, 'neuron2': 8}\n",
      "0.0,0.0 with: {'neuron1': 4, 'neuron2': 20}\n",
      "0.0,0.0 with: {'neuron1': 4, 'neuron2': 30}\n",
      "0.0,0.0 with: {'neuron1': 4, 'neuron2': 40}\n",
      "0.0,0.0 with: {'neuron1': 4, 'neuron2': 50}\n",
      "0.0,0.0 with: {'neuron1': 4, 'neuron2': 60}\n",
      "0.0,0.0 with: {'neuron1': 8, 'neuron2': 2}\n",
      "0.0,0.0 with: {'neuron1': 8, 'neuron2': 4}\n",
      "0.0,0.0 with: {'neuron1': 8, 'neuron2': 8}\n",
      "0.0,0.0 with: {'neuron1': 8, 'neuron2': 20}\n",
      "0.0,0.0 with: {'neuron1': 8, 'neuron2': 30}\n",
      "0.0,0.0 with: {'neuron1': 8, 'neuron2': 40}\n",
      "0.0,0.0 with: {'neuron1': 8, 'neuron2': 50}\n",
      "0.0,0.0 with: {'neuron1': 8, 'neuron2': 60}\n",
      "0.0,0.0 with: {'neuron1': 16, 'neuron2': 2}\n",
      "0.0,0.0 with: {'neuron1': 16, 'neuron2': 4}\n",
      "0.0,0.0 with: {'neuron1': 16, 'neuron2': 8}\n",
      "0.0,0.0 with: {'neuron1': 16, 'neuron2': 20}\n",
      "0.0,0.0 with: {'neuron1': 16, 'neuron2': 30}\n",
      "0.0,0.0 with: {'neuron1': 16, 'neuron2': 40}\n",
      "0.0,0.0 with: {'neuron1': 16, 'neuron2': 50}\n",
      "0.0,0.0 with: {'neuron1': 16, 'neuron2': 60}\n",
      "0.0,0.0 with: {'neuron1': 20, 'neuron2': 2}\n",
      "0.0,0.0 with: {'neuron1': 20, 'neuron2': 4}\n",
      "0.0,0.0 with: {'neuron1': 20, 'neuron2': 8}\n",
      "0.0,0.0 with: {'neuron1': 20, 'neuron2': 20}\n",
      "0.0,0.0 with: {'neuron1': 20, 'neuron2': 30}\n",
      "0.0,0.0 with: {'neuron1': 20, 'neuron2': 40}\n",
      "0.0,0.0 with: {'neuron1': 20, 'neuron2': 50}\n",
      "0.0,0.0 with: {'neuron1': 20, 'neuron2': 60}\n",
      "0.0,0.0 with: {'neuron1': 30, 'neuron2': 2}\n",
      "0.0,0.0 with: {'neuron1': 30, 'neuron2': 4}\n",
      "0.0,0.0 with: {'neuron1': 30, 'neuron2': 8}\n",
      "0.0,0.0 with: {'neuron1': 30, 'neuron2': 20}\n",
      "0.0,0.0 with: {'neuron1': 30, 'neuron2': 30}\n",
      "0.0,0.0 with: {'neuron1': 30, 'neuron2': 40}\n",
      "0.0,0.0 with: {'neuron1': 30, 'neuron2': 50}\n",
      "0.0,0.0 with: {'neuron1': 30, 'neuron2': 60}\n",
      "0.0,0.0 with: {'neuron1': 40, 'neuron2': 2}\n",
      "0.0,0.0 with: {'neuron1': 40, 'neuron2': 4}\n",
      "0.0,0.0 with: {'neuron1': 40, 'neuron2': 8}\n",
      "0.0,0.0 with: {'neuron1': 40, 'neuron2': 20}\n",
      "0.0,0.0 with: {'neuron1': 40, 'neuron2': 30}\n",
      "0.0,0.0 with: {'neuron1': 40, 'neuron2': 40}\n",
      "0.0,0.0 with: {'neuron1': 40, 'neuron2': 50}\n",
      "0.0,0.0 with: {'neuron1': 40, 'neuron2': 60}\n",
      "0.0,0.0 with: {'neuron1': 50, 'neuron2': 2}\n",
      "0.0,0.0 with: {'neuron1': 50, 'neuron2': 4}\n",
      "0.0,0.0 with: {'neuron1': 50, 'neuron2': 8}\n",
      "0.0,0.0 with: {'neuron1': 50, 'neuron2': 20}\n",
      "0.0,0.0 with: {'neuron1': 50, 'neuron2': 30}\n",
      "0.0,0.0 with: {'neuron1': 50, 'neuron2': 40}\n",
      "0.0,0.0 with: {'neuron1': 50, 'neuron2': 50}\n",
      "0.0,0.0 with: {'neuron1': 50, 'neuron2': 60}\n"
     ]
    }
   ],
   "source": [
    "#Summarize the results\n",
    "print('Best : {}, using {}'.format(grid_result.best_score_,grid_result.best_params_))\n",
    "means = grid_result.cv_results_['mean_test_score']\n",
    "stds = grid_result.cv_results_['std_test_score']\n",
    "params = grid_result.cv_results_['params']\n",
    "for mean, stdev, param in zip(means, stds, params):\n",
    "  print('{},{} with: {}'.format(mean, stdev, param))"
   ]
  },
  {
   "cell_type": "code",
   "execution_count": 30,
   "id": "4ee858f1",
   "metadata": {},
   "outputs": [],
   "source": [
    "#we get best learning rate as 0.001 and dropout rate as 0 and best neurons as 4 and 2, so now we can build final model"
   ]
  },
  {
   "cell_type": "code",
   "execution_count": 31,
   "id": "9a091a0c",
   "metadata": {},
   "outputs": [],
   "source": [
    "from sklearn.model_selection import train_test_split"
   ]
  },
  {
   "cell_type": "code",
   "execution_count": 32,
   "id": "a174e67e",
   "metadata": {},
   "outputs": [],
   "source": [
    "X_train,X_test,y_train,y_test =train_test_split(X,y,test_size =0.3,random_state =42)"
   ]
  },
  {
   "cell_type": "code",
   "execution_count": 33,
   "id": "da6ac14c",
   "metadata": {},
   "outputs": [
    {
     "data": {
      "text/plain": [
       "((10527, 10), (4512, 10), (10527,), (4512,))"
      ]
     },
     "execution_count": 33,
     "metadata": {},
     "output_type": "execute_result"
    }
   ],
   "source": [
    "X_train.shape,X_test.shape,y_train.shape,y_test.shape"
   ]
  },
  {
   "cell_type": "code",
   "execution_count": 34,
   "id": "91fda74d",
   "metadata": {},
   "outputs": [],
   "source": [
    "optmizer =RMSprop(0.001)\n",
    "model_new=keras.Sequential([\n",
    "    keras.layers.Dense(4,input_dim =(n_features),activation='relu'),\n",
    "    keras.layers.Dense(2,activation ='relu')\n",
    "])\n",
    "model_new.compile(optimizer =optmizer,loss= 'mean_squared_error',metrics=['accuracy'])"
   ]
  },
  {
   "cell_type": "code",
   "execution_count": 35,
   "id": "bf16da78",
   "metadata": {},
   "outputs": [
    {
     "name": "stdout",
     "output_type": "stream",
     "text": [
      "Epoch 1/10\n",
      "1053/1053 [==============================] - 4s 3ms/step - loss: 0.6997 - accuracy: 0.0000e+00\n",
      "Epoch 2/10\n",
      "1053/1053 [==============================] - 3s 3ms/step - loss: 0.4824 - accuracy: 0.0000e+00\n",
      "Epoch 3/10\n",
      "1053/1053 [==============================] - 3s 3ms/step - loss: 0.4750 - accuracy: 0.0000e+00\n",
      "Epoch 4/10\n",
      "1053/1053 [==============================] - 3s 3ms/step - loss: 0.4739 - accuracy: 0.0000e+00\n",
      "Epoch 5/10\n",
      "1053/1053 [==============================] - 4s 4ms/step - loss: 0.4735 - accuracy: 0.0000e+00\n",
      "Epoch 6/10\n",
      "1053/1053 [==============================] - 4s 4ms/step - loss: 0.4733 - accuracy: 0.0000e+00\n",
      "Epoch 7/10\n",
      "1053/1053 [==============================] - 4s 4ms/step - loss: 0.4733 - accuracy: 0.0000e+00\n",
      "Epoch 8/10\n",
      "1053/1053 [==============================] - 4s 4ms/step - loss: 0.4732 - accuracy: 0.0000e+00\n",
      "Epoch 9/10\n",
      "1053/1053 [==============================] - 4s 4ms/step - loss: 0.4731 - accuracy: 0.0000e+00\n",
      "Epoch 10/10\n",
      "1053/1053 [==============================] - 4s 4ms/step - loss: 0.4731 - accuracy: 0.0000e+00\n"
     ]
    },
    {
     "data": {
      "text/plain": [
       "<keras.callbacks.History at 0x1b4a74a1900>"
      ]
     },
     "execution_count": 35,
     "metadata": {},
     "output_type": "execute_result"
    }
   ],
   "source": [
    "seed_value =42;\n",
    "import random\n",
    "tensorflow.random.set_seed(seed_value)\n",
    "model_new.fit(X_train, y_train, epochs=10, batch_size=10, verbose = 1)"
   ]
  },
  {
   "cell_type": "code",
   "execution_count": 36,
   "id": "6daccecb",
   "metadata": {},
   "outputs": [
    {
     "name": "stdout",
     "output_type": "stream",
     "text": [
      "141/141 [==============================] - 1s 3ms/step - loss: 0.4929 - accuracy: 0.0000e+00\n"
     ]
    },
    {
     "data": {
      "text/plain": [
       "[0.4929099678993225, 0.0]"
      ]
     },
     "execution_count": 36,
     "metadata": {},
     "output_type": "execute_result"
    }
   ],
   "source": [
    "model_new.evaluate(X_test,y_test)"
   ]
  },
  {
   "cell_type": "code",
   "execution_count": null,
   "id": "bc6aebb5",
   "metadata": {},
   "outputs": [],
   "source": []
  },
  {
   "cell_type": "code",
   "execution_count": null,
   "id": "5eb8739b",
   "metadata": {},
   "outputs": [],
   "source": []
  },
  {
   "cell_type": "code",
   "execution_count": null,
   "id": "dcae44dd",
   "metadata": {},
   "outputs": [],
   "source": []
  },
  {
   "cell_type": "code",
   "execution_count": null,
   "id": "b7ab4d8f",
   "metadata": {},
   "outputs": [],
   "source": []
  },
  {
   "cell_type": "code",
   "execution_count": null,
   "id": "e365cd1b",
   "metadata": {},
   "outputs": [],
   "source": []
  },
  {
   "cell_type": "code",
   "execution_count": null,
   "id": "fd48e2e3",
   "metadata": {},
   "outputs": [],
   "source": []
  }
 ],
 "metadata": {
  "kernelspec": {
   "display_name": "Python 3 (ipykernel)",
   "language": "python",
   "name": "python3"
  },
  "language_info": {
   "codemirror_mode": {
    "name": "ipython",
    "version": 3
   },
   "file_extension": ".py",
   "mimetype": "text/x-python",
   "name": "python",
   "nbconvert_exporter": "python",
   "pygments_lexer": "ipython3",
   "version": "3.10.9"
  }
 },
 "nbformat": 4,
 "nbformat_minor": 5
}
